{
 "metadata": {
  "language_info": {
   "codemirror_mode": {
    "name": "ipython",
    "version": 3
   },
   "file_extension": ".py",
   "mimetype": "text/x-python",
   "name": "python",
   "nbconvert_exporter": "python",
   "pygments_lexer": "ipython3",
   "version": "3.8.5-final"
  },
  "orig_nbformat": 2,
  "kernelspec": {
   "name": "python38564bitae23fc49c6c24b81b0364a0fe04ad582",
   "display_name": "Python 3.8.5 64-bit",
   "language": "python"
  }
 },
 "nbformat": 4,
 "nbformat_minor": 2,
 "cells": [
  {
   "cell_type": "code",
   "execution_count": 3,
   "metadata": {},
   "outputs": [],
   "source": [
    "import pandas as pd \n",
    "import numpy as np \n",
    "import matplotlib.pyplot as plt \n",
    "import os \n",
    "\n",
    "from sklearn import preprocessing\n",
    "from sklearn import decomposition\n",
    "\n"
   ]
  },
  {
   "source": [
    "## Import and tansform data"
   ],
   "cell_type": "markdown",
   "metadata": {}
  },
  {
   "cell_type": "code",
   "execution_count": 4,
   "metadata": {},
   "outputs": [],
   "source": [
    "# Fonction to import and transform data\n",
    "\n",
    "def import_and_transform_data(path):\n",
    "    filenames = os.listdir(path) # get list of filenames in path\n",
    "    df = pd.DataFrame()\n",
    "\n",
    "    for filename in filenames:\n",
    "        raw_data = pd.read_csv(path+filename, sep=',') # import data\n",
    "\n",
    "        # Fourier transform\n",
    "        N = len(raw_data)\n",
    "        data = raw_data.apply(np.fft.fft)\n",
    "        data = abs(data)/N\n",
    "        freq = np.fft.fftfreq(N)/10**-3\n",
    "        data['freq'] = freq\n",
    "        data = data[(data['freq']>=0) & (data['freq']<40)]\n",
    "        data.fillna(0, inplace=True)\n",
    "\n",
    "        # Transpose data and concat with segment_id\n",
    "        data = data.set_index('freq').transpose().reset_index()\n",
    "        segment_id = filename.split('.')[0] # get segment_id of the data\n",
    "        data['segment_id'] = segment_id # create column with segment_id\n",
    "        data['segment_id'] = data['segment_id'].astype(int)\n",
    "        \n",
    "        # Create complete dataframe and fill NA values\n",
    "        df = pd.concat([df,data], axis=0, ignore_index=True) # append data in complete dataframe\n",
    "        df.fillna(0, inplace=True)\n",
    "\n",
    "    return df"
   ]
  },
  {
   "cell_type": "code",
   "execution_count": 5,
   "metadata": {},
   "outputs": [
    {
     "output_type": "execute_result",
     "data": {
      "text/plain": [
       "           index       0.0  0.01666638889351844  0.03333277778703688  \\\n",
       "0       sensor_1  0.382244             0.252605             0.174726   \n",
       "1       sensor_2  0.000000             0.000000             0.000000   \n",
       "2       sensor_3  2.192213             1.382067             1.593632   \n",
       "3       sensor_4  0.148031             5.972092             2.596711   \n",
       "4       sensor_5  0.263129             0.094471             0.229863   \n",
       "...          ...       ...                  ...                  ...   \n",
       "44305   sensor_6  0.277962             1.035427             0.706879   \n",
       "44306   sensor_7  5.151697             0.761343             0.736066   \n",
       "44307   sensor_8  1.829270             1.017509             1.228733   \n",
       "44308   sensor_9  0.000000             0.000000             0.000000   \n",
       "44309  sensor_10  0.261096             0.349077             0.178134   \n",
       "\n",
       "       0.049999166680555325  0.06666555557407376  0.0833319444675922  \\\n",
       "0                  0.159955             0.324538            0.272301   \n",
       "1                  0.000000             0.000000            0.000000   \n",
       "2                  2.155409             4.781326            1.526960   \n",
       "3                  1.818949             1.294834            1.682951   \n",
       "4                  0.416233             0.515597            0.327723   \n",
       "...                     ...                  ...                 ...   \n",
       "44305              0.896086             1.523487            1.610721   \n",
       "44306              0.968161             0.741444            1.254707   \n",
       "44307              0.590615             1.014658            1.561106   \n",
       "44308              0.000000             0.000000            0.000000   \n",
       "44309              0.153454             0.360761            0.234311   \n",
       "\n",
       "       0.09999833336111065  0.1166647222546291  0.13333111114814752  ...  \\\n",
       "0                 0.482399            0.311442             0.443052  ...   \n",
       "1                 0.000000            0.000000             0.000000  ...   \n",
       "2                 1.513434            9.704382            10.692555  ...   \n",
       "3                 0.842952            0.877088             0.314563  ...   \n",
       "4                 0.116902            0.178543             0.172546  ...   \n",
       "...                    ...                 ...                  ...  ...   \n",
       "44305             1.050943            1.018247             1.068867  ...   \n",
       "44306             2.106193            0.788840             0.769913  ...   \n",
       "44307             1.473305            0.423128             1.111221  ...   \n",
       "44308             0.000000            0.000000             0.000000  ...   \n",
       "44309             0.424707            0.590603             1.106852  ...   \n",
       "\n",
       "       39.88266862218963  39.899335011083146  39.91600139997667  \\\n",
       "0               0.346520            0.283368           0.199610   \n",
       "1               0.000000            0.000000           0.000000   \n",
       "2               1.801344            2.174264           0.572924   \n",
       "3               2.221429            0.914447           1.996497   \n",
       "4               0.920340            0.777736           0.280852   \n",
       "...                  ...                 ...                ...   \n",
       "44305           0.468640            0.737726           0.128422   \n",
       "44306           0.670579            0.272471           1.300166   \n",
       "44307           1.039284            0.600587           0.571741   \n",
       "44308           0.000000            0.000000           0.000000   \n",
       "44309           5.925868            3.462184           8.626234   \n",
       "\n",
       "       39.932667788870184  39.9493341777637  39.96600056665722  \\\n",
       "0                0.534876          0.330662           0.155477   \n",
       "1                0.000000          0.000000           0.000000   \n",
       "2                2.711069          1.701317           1.006530   \n",
       "3                2.665021          0.340788           1.501183   \n",
       "4                1.079702          0.741650           1.032278   \n",
       "...                   ...               ...                ...   \n",
       "44305            0.129977          0.300733           0.171325   \n",
       "44306            0.728244          0.221959           0.548114   \n",
       "44307            1.180367          1.301595           0.979024   \n",
       "44308            0.000000          0.000000           0.000000   \n",
       "44309            9.096973          7.583111           5.667724   \n",
       "\n",
       "       39.98266695555074  39.99933334444426  segment_id  time_to_eruption  \n",
       "0               0.295858           0.284055  1000015382          16258654  \n",
       "1               0.000000           0.000000  1000015382          16258654  \n",
       "2               1.939777           3.464027  1000015382          16258654  \n",
       "3               1.359381           1.967032  1000015382          16258654  \n",
       "4               0.770636           0.429481  1000015382          16258654  \n",
       "...                  ...                ...         ...               ...  \n",
       "44305           0.444933           0.420628   999761287           7511308  \n",
       "44306           0.160108           0.824508   999761287           7511308  \n",
       "44307           1.375278           1.157176   999761287           7511308  \n",
       "44308           0.000000           0.000000   999761287           7511308  \n",
       "44309           6.428465           9.864910   999761287           7511308  \n",
       "\n",
       "[44310 rows x 2404 columns]"
      ],
      "text/html": "<div>\n<style scoped>\n    .dataframe tbody tr th:only-of-type {\n        vertical-align: middle;\n    }\n\n    .dataframe tbody tr th {\n        vertical-align: top;\n    }\n\n    .dataframe thead th {\n        text-align: right;\n    }\n</style>\n<table border=\"1\" class=\"dataframe\">\n  <thead>\n    <tr style=\"text-align: right;\">\n      <th></th>\n      <th>index</th>\n      <th>0.0</th>\n      <th>0.01666638889351844</th>\n      <th>0.03333277778703688</th>\n      <th>0.049999166680555325</th>\n      <th>0.06666555557407376</th>\n      <th>0.0833319444675922</th>\n      <th>0.09999833336111065</th>\n      <th>0.1166647222546291</th>\n      <th>0.13333111114814752</th>\n      <th>...</th>\n      <th>39.88266862218963</th>\n      <th>39.899335011083146</th>\n      <th>39.91600139997667</th>\n      <th>39.932667788870184</th>\n      <th>39.9493341777637</th>\n      <th>39.96600056665722</th>\n      <th>39.98266695555074</th>\n      <th>39.99933334444426</th>\n      <th>segment_id</th>\n      <th>time_to_eruption</th>\n    </tr>\n  </thead>\n  <tbody>\n    <tr>\n      <th>0</th>\n      <td>sensor_1</td>\n      <td>0.382244</td>\n      <td>0.252605</td>\n      <td>0.174726</td>\n      <td>0.159955</td>\n      <td>0.324538</td>\n      <td>0.272301</td>\n      <td>0.482399</td>\n      <td>0.311442</td>\n      <td>0.443052</td>\n      <td>...</td>\n      <td>0.346520</td>\n      <td>0.283368</td>\n      <td>0.199610</td>\n      <td>0.534876</td>\n      <td>0.330662</td>\n      <td>0.155477</td>\n      <td>0.295858</td>\n      <td>0.284055</td>\n      <td>1000015382</td>\n      <td>16258654</td>\n    </tr>\n    <tr>\n      <th>1</th>\n      <td>sensor_2</td>\n      <td>0.000000</td>\n      <td>0.000000</td>\n      <td>0.000000</td>\n      <td>0.000000</td>\n      <td>0.000000</td>\n      <td>0.000000</td>\n      <td>0.000000</td>\n      <td>0.000000</td>\n      <td>0.000000</td>\n      <td>...</td>\n      <td>0.000000</td>\n      <td>0.000000</td>\n      <td>0.000000</td>\n      <td>0.000000</td>\n      <td>0.000000</td>\n      <td>0.000000</td>\n      <td>0.000000</td>\n      <td>0.000000</td>\n      <td>1000015382</td>\n      <td>16258654</td>\n    </tr>\n    <tr>\n      <th>2</th>\n      <td>sensor_3</td>\n      <td>2.192213</td>\n      <td>1.382067</td>\n      <td>1.593632</td>\n      <td>2.155409</td>\n      <td>4.781326</td>\n      <td>1.526960</td>\n      <td>1.513434</td>\n      <td>9.704382</td>\n      <td>10.692555</td>\n      <td>...</td>\n      <td>1.801344</td>\n      <td>2.174264</td>\n      <td>0.572924</td>\n      <td>2.711069</td>\n      <td>1.701317</td>\n      <td>1.006530</td>\n      <td>1.939777</td>\n      <td>3.464027</td>\n      <td>1000015382</td>\n      <td>16258654</td>\n    </tr>\n    <tr>\n      <th>3</th>\n      <td>sensor_4</td>\n      <td>0.148031</td>\n      <td>5.972092</td>\n      <td>2.596711</td>\n      <td>1.818949</td>\n      <td>1.294834</td>\n      <td>1.682951</td>\n      <td>0.842952</td>\n      <td>0.877088</td>\n      <td>0.314563</td>\n      <td>...</td>\n      <td>2.221429</td>\n      <td>0.914447</td>\n      <td>1.996497</td>\n      <td>2.665021</td>\n      <td>0.340788</td>\n      <td>1.501183</td>\n      <td>1.359381</td>\n      <td>1.967032</td>\n      <td>1000015382</td>\n      <td>16258654</td>\n    </tr>\n    <tr>\n      <th>4</th>\n      <td>sensor_5</td>\n      <td>0.263129</td>\n      <td>0.094471</td>\n      <td>0.229863</td>\n      <td>0.416233</td>\n      <td>0.515597</td>\n      <td>0.327723</td>\n      <td>0.116902</td>\n      <td>0.178543</td>\n      <td>0.172546</td>\n      <td>...</td>\n      <td>0.920340</td>\n      <td>0.777736</td>\n      <td>0.280852</td>\n      <td>1.079702</td>\n      <td>0.741650</td>\n      <td>1.032278</td>\n      <td>0.770636</td>\n      <td>0.429481</td>\n      <td>1000015382</td>\n      <td>16258654</td>\n    </tr>\n    <tr>\n      <th>...</th>\n      <td>...</td>\n      <td>...</td>\n      <td>...</td>\n      <td>...</td>\n      <td>...</td>\n      <td>...</td>\n      <td>...</td>\n      <td>...</td>\n      <td>...</td>\n      <td>...</td>\n      <td>...</td>\n      <td>...</td>\n      <td>...</td>\n      <td>...</td>\n      <td>...</td>\n      <td>...</td>\n      <td>...</td>\n      <td>...</td>\n      <td>...</td>\n      <td>...</td>\n      <td>...</td>\n    </tr>\n    <tr>\n      <th>44305</th>\n      <td>sensor_6</td>\n      <td>0.277962</td>\n      <td>1.035427</td>\n      <td>0.706879</td>\n      <td>0.896086</td>\n      <td>1.523487</td>\n      <td>1.610721</td>\n      <td>1.050943</td>\n      <td>1.018247</td>\n      <td>1.068867</td>\n      <td>...</td>\n      <td>0.468640</td>\n      <td>0.737726</td>\n      <td>0.128422</td>\n      <td>0.129977</td>\n      <td>0.300733</td>\n      <td>0.171325</td>\n      <td>0.444933</td>\n      <td>0.420628</td>\n      <td>999761287</td>\n      <td>7511308</td>\n    </tr>\n    <tr>\n      <th>44306</th>\n      <td>sensor_7</td>\n      <td>5.151697</td>\n      <td>0.761343</td>\n      <td>0.736066</td>\n      <td>0.968161</td>\n      <td>0.741444</td>\n      <td>1.254707</td>\n      <td>2.106193</td>\n      <td>0.788840</td>\n      <td>0.769913</td>\n      <td>...</td>\n      <td>0.670579</td>\n      <td>0.272471</td>\n      <td>1.300166</td>\n      <td>0.728244</td>\n      <td>0.221959</td>\n      <td>0.548114</td>\n      <td>0.160108</td>\n      <td>0.824508</td>\n      <td>999761287</td>\n      <td>7511308</td>\n    </tr>\n    <tr>\n      <th>44307</th>\n      <td>sensor_8</td>\n      <td>1.829270</td>\n      <td>1.017509</td>\n      <td>1.228733</td>\n      <td>0.590615</td>\n      <td>1.014658</td>\n      <td>1.561106</td>\n      <td>1.473305</td>\n      <td>0.423128</td>\n      <td>1.111221</td>\n      <td>...</td>\n      <td>1.039284</td>\n      <td>0.600587</td>\n      <td>0.571741</td>\n      <td>1.180367</td>\n      <td>1.301595</td>\n      <td>0.979024</td>\n      <td>1.375278</td>\n      <td>1.157176</td>\n      <td>999761287</td>\n      <td>7511308</td>\n    </tr>\n    <tr>\n      <th>44308</th>\n      <td>sensor_9</td>\n      <td>0.000000</td>\n      <td>0.000000</td>\n      <td>0.000000</td>\n      <td>0.000000</td>\n      <td>0.000000</td>\n      <td>0.000000</td>\n      <td>0.000000</td>\n      <td>0.000000</td>\n      <td>0.000000</td>\n      <td>...</td>\n      <td>0.000000</td>\n      <td>0.000000</td>\n      <td>0.000000</td>\n      <td>0.000000</td>\n      <td>0.000000</td>\n      <td>0.000000</td>\n      <td>0.000000</td>\n      <td>0.000000</td>\n      <td>999761287</td>\n      <td>7511308</td>\n    </tr>\n    <tr>\n      <th>44309</th>\n      <td>sensor_10</td>\n      <td>0.261096</td>\n      <td>0.349077</td>\n      <td>0.178134</td>\n      <td>0.153454</td>\n      <td>0.360761</td>\n      <td>0.234311</td>\n      <td>0.424707</td>\n      <td>0.590603</td>\n      <td>1.106852</td>\n      <td>...</td>\n      <td>5.925868</td>\n      <td>3.462184</td>\n      <td>8.626234</td>\n      <td>9.096973</td>\n      <td>7.583111</td>\n      <td>5.667724</td>\n      <td>6.428465</td>\n      <td>9.864910</td>\n      <td>999761287</td>\n      <td>7511308</td>\n    </tr>\n  </tbody>\n</table>\n<p>44310 rows × 2404 columns</p>\n</div>"
     },
     "metadata": {},
     "execution_count": 5
    }
   ],
   "source": [
    "target = pd.read_csv('Data/train.csv', sep=',')\n",
    "df = import_and_transform_data('Data/train/')\n",
    "df = df.merge(target, on='segment_id')\n",
    "df"
   ]
  },
  {
   "cell_type": "code",
   "execution_count": 6,
   "metadata": {},
   "outputs": [
    {
     "output_type": "execute_result",
     "data": {
      "text/plain": [
       "((44310, 2401), (44310,))"
      ]
     },
     "metadata": {},
     "execution_count": 6
    }
   ],
   "source": [
    "X = df.iloc[:,1:-2].values\n",
    "y = df['time_to_eruption'].values\n",
    "X.shape, y.shape"
   ]
  },
  {
   "source": [
    "## Dimension reduction"
   ],
   "cell_type": "markdown",
   "metadata": {}
  },
  {
   "source": [
    "# Perform PCA\n",
    "\n",
    "# Centrage et réduction\n",
    "std_scale = preprocessing.StandardScaler().fit(X)\n",
    "X_scaled = std_scale.transform(X)\n",
    "\n",
    "# Recherche des composantes principales\n",
    "pca = decomposition.PCA(n_components=50)\n",
    "pca.fit(X_scaled)\n",
    "\n",
    "# Projection des individus sur les axes factoriels\n",
    "X_projected = pca.transform(X_scaled)\n",
    "\n",
    "# GRAPHIQUES\n",
    "plt.style.use('seaborn-whitegrid')\n",
    "fontsize_axes = 12\n",
    "fontsize_ticks = 10\n",
    "fontsize_title = 14\n",
    "\n",
    "def display_scree_plot(pca):\n",
    "    plt.figure(figsize=(8,5))\n",
    "    scree = pca.explained_variance_ratio_*100\n",
    "    plt.bar(np.arange(len(scree))+1, scree, color=\"#34738C\")\n",
    "\n",
    "    # legends\n",
    "    plt.xlabel(\"Dimensions\", fontsize=fontsize_axes)\n",
    "    plt.xticks(fontsize=fontsize_ticks)\n",
    "    plt.ylabel(\"Percentage of explained variances\", fontsize=fontsize_axes)\n",
    "    plt.yticks(fontsize=fontsize_ticks)\n",
    "    plt.title(\"Scree plot\", fontsize=fontsize_title, loc='left')\n",
    "\n",
    "    plt.gca().spines['top'].set_visible(False)\n",
    "    plt.gca().spines['bottom'].set_visible(False)\n",
    "    plt.gca().spines['right'].set_visible(False)\n",
    "    plt.gca().spines['left'].set_visible(False)\n",
    "\n",
    "    plt.show()\n",
    "\n",
    "display_scree_plot(pca)"
   ],
   "cell_type": "code",
   "metadata": {},
   "execution_count": 28,
   "outputs": [
    {
     "output_type": "display_data",
     "data": {
      "text/plain": "<Figure size 576x360 with 1 Axes>",
      "image/svg+xml": "<?xml version=\"1.0\" encoding=\"utf-8\" standalone=\"no\"?>\r\n<!DOCTYPE svg PUBLIC \"-//W3C//DTD SVG 1.1//EN\"\r\n  \"http://www.w3.org/Graphics/SVG/1.1/DTD/svg11.dtd\">\r\n<!-- Created with matplotlib (https://matplotlib.org/) -->\r\n<svg height=\"330.01125pt\" version=\"1.1\" viewBox=\"0 0 490.683125 330.01125\" width=\"490.683125pt\" xmlns=\"http://www.w3.org/2000/svg\" xmlns:xlink=\"http://www.w3.org/1999/xlink\">\r\n <metadata>\r\n  <rdf:RDF xmlns:cc=\"http://creativecommons.org/ns#\" xmlns:dc=\"http://purl.org/dc/elements/1.1/\" xmlns:rdf=\"http://www.w3.org/1999/02/22-rdf-syntax-ns#\">\r\n   <cc:Work>\r\n    <dc:type rdf:resource=\"http://purl.org/dc/dcmitype/StillImage\"/>\r\n    <dc:date>2021-02-09T23:12:50.586286</dc:date>\r\n    <dc:format>image/svg+xml</dc:format>\r\n    <dc:creator>\r\n     <cc:Agent>\r\n      <dc:title>Matplotlib v3.3.4, https://matplotlib.org/</dc:title>\r\n     </cc:Agent>\r\n    </dc:creator>\r\n   </cc:Work>\r\n  </rdf:RDF>\r\n </metadata>\r\n <defs>\r\n  <style type=\"text/css\">*{stroke-linecap:butt;stroke-linejoin:round;}</style>\r\n </defs>\r\n <g id=\"figure_1\">\r\n  <g id=\"patch_1\">\r\n   <path d=\"M 0 330.01125 \r\nL 490.683125 330.01125 \r\nL 490.683125 0 \r\nL 0 0 \r\nz\r\n\" style=\"fill:#ffffff;\"/>\r\n  </g>\r\n  <g id=\"axes_1\">\r\n   <g id=\"patch_2\">\r\n    <path d=\"M 37.083125 295.191562 \r\nL 483.483125 295.191562 \r\nL 483.483125 23.391562 \r\nL 37.083125 23.391562 \r\nz\r\n\" style=\"fill:#ffffff;\"/>\r\n   </g>\r\n   <g id=\"matplotlib.axis_1\">\r\n    <g id=\"xtick_1\">\r\n     <g id=\"line2d_1\">\r\n      <path clip-path=\"url(#pd778e31b3c)\" d=\"M 52.484658 295.191562 \r\nL 52.484658 23.391562 \r\n\" style=\"fill:none;stroke:#cccccc;stroke-linecap:round;stroke-width:0.8;\"/>\r\n     </g>\r\n     <g id=\"line2d_2\"/>\r\n     <g id=\"text_1\">\r\n      <!-- 0 -->\r\n      <g style=\"fill:#262626;\" transform=\"translate(49.70419 305.849375)scale(0.1 -0.1)\">\r\n       <defs>\r\n        <path d=\"M 4.15625 35.296875 \r\nQ 4.15625 48 6.765625 55.734375 \r\nQ 9.375 63.484375 14.515625 67.671875 \r\nQ 19.671875 71.875 27.484375 71.875 \r\nQ 33.25 71.875 37.59375 69.546875 \r\nQ 41.9375 67.234375 44.765625 62.859375 \r\nQ 47.609375 58.5 49.21875 52.21875 \r\nQ 50.828125 45.953125 50.828125 35.296875 \r\nQ 50.828125 22.703125 48.234375 14.96875 \r\nQ 45.65625 7.234375 40.5 3 \r\nQ 35.359375 -1.21875 27.484375 -1.21875 \r\nQ 17.140625 -1.21875 11.234375 6.203125 \r\nQ 4.15625 15.140625 4.15625 35.296875 \r\nz\r\nM 13.1875 35.296875 \r\nQ 13.1875 17.671875 17.3125 11.828125 \r\nQ 21.4375 6 27.484375 6 \r\nQ 33.546875 6 37.671875 11.859375 \r\nQ 41.796875 17.71875 41.796875 35.296875 \r\nQ 41.796875 52.984375 37.671875 58.78125 \r\nQ 33.546875 64.59375 27.390625 64.59375 \r\nQ 21.34375 64.59375 17.71875 59.46875 \r\nQ 13.1875 52.9375 13.1875 35.296875 \r\nz\r\n\" id=\"ArialMT-48\"/>\r\n       </defs>\r\n       <use xlink:href=\"#ArialMT-48\"/>\r\n      </g>\r\n     </g>\r\n    </g>\r\n    <g id=\"xtick_2\">\r\n     <g id=\"line2d_3\">\r\n      <path clip-path=\"url(#pd778e31b3c)\" d=\"M 133.974253 295.191562 \r\nL 133.974253 23.391562 \r\n\" style=\"fill:none;stroke:#cccccc;stroke-linecap:round;stroke-width:0.8;\"/>\r\n     </g>\r\n     <g id=\"line2d_4\"/>\r\n     <g id=\"text_2\">\r\n      <!-- 10 -->\r\n      <g style=\"fill:#262626;\" transform=\"translate(128.413316 305.849375)scale(0.1 -0.1)\">\r\n       <defs>\r\n        <path d=\"M 37.25 0 \r\nL 28.46875 0 \r\nL 28.46875 56 \r\nQ 25.296875 52.984375 20.140625 49.953125 \r\nQ 14.984375 46.921875 10.890625 45.40625 \r\nL 10.890625 53.90625 \r\nQ 18.265625 57.375 23.78125 62.296875 \r\nQ 29.296875 67.234375 31.59375 71.875 \r\nL 37.25 71.875 \r\nz\r\n\" id=\"ArialMT-49\"/>\r\n       </defs>\r\n       <use xlink:href=\"#ArialMT-49\"/>\r\n       <use x=\"55.615234\" xlink:href=\"#ArialMT-48\"/>\r\n      </g>\r\n     </g>\r\n    </g>\r\n    <g id=\"xtick_3\">\r\n     <g id=\"line2d_5\">\r\n      <path clip-path=\"url(#pd778e31b3c)\" d=\"M 215.463848 295.191562 \r\nL 215.463848 23.391562 \r\n\" style=\"fill:none;stroke:#cccccc;stroke-linecap:round;stroke-width:0.8;\"/>\r\n     </g>\r\n     <g id=\"line2d_6\"/>\r\n     <g id=\"text_3\">\r\n      <!-- 20 -->\r\n      <g style=\"fill:#262626;\" transform=\"translate(209.90291 305.849375)scale(0.1 -0.1)\">\r\n       <defs>\r\n        <path d=\"M 50.34375 8.453125 \r\nL 50.34375 0 \r\nL 3.03125 0 \r\nQ 2.9375 3.171875 4.046875 6.109375 \r\nQ 5.859375 10.9375 9.828125 15.625 \r\nQ 13.8125 20.3125 21.34375 26.46875 \r\nQ 33.015625 36.03125 37.109375 41.625 \r\nQ 41.21875 47.21875 41.21875 52.203125 \r\nQ 41.21875 57.421875 37.46875 61 \r\nQ 33.734375 64.59375 27.734375 64.59375 \r\nQ 21.390625 64.59375 17.578125 60.78125 \r\nQ 13.765625 56.984375 13.71875 50.25 \r\nL 4.6875 51.171875 \r\nQ 5.609375 61.28125 11.65625 66.578125 \r\nQ 17.71875 71.875 27.9375 71.875 \r\nQ 38.234375 71.875 44.234375 66.15625 \r\nQ 50.25 60.453125 50.25 52 \r\nQ 50.25 47.703125 48.484375 43.546875 \r\nQ 46.734375 39.40625 42.65625 34.8125 \r\nQ 38.578125 30.21875 29.109375 22.21875 \r\nQ 21.1875 15.578125 18.9375 13.203125 \r\nQ 16.703125 10.84375 15.234375 8.453125 \r\nz\r\n\" id=\"ArialMT-50\"/>\r\n       </defs>\r\n       <use xlink:href=\"#ArialMT-50\"/>\r\n       <use x=\"55.615234\" xlink:href=\"#ArialMT-48\"/>\r\n      </g>\r\n     </g>\r\n    </g>\r\n    <g id=\"xtick_4\">\r\n     <g id=\"line2d_7\">\r\n      <path clip-path=\"url(#pd778e31b3c)\" d=\"M 296.953443 295.191562 \r\nL 296.953443 23.391562 \r\n\" style=\"fill:none;stroke:#cccccc;stroke-linecap:round;stroke-width:0.8;\"/>\r\n     </g>\r\n     <g id=\"line2d_8\"/>\r\n     <g id=\"text_4\">\r\n      <!-- 30 -->\r\n      <g style=\"fill:#262626;\" transform=\"translate(291.392505 305.849375)scale(0.1 -0.1)\">\r\n       <defs>\r\n        <path d=\"M 4.203125 18.890625 \r\nL 12.984375 20.0625 \r\nQ 14.5 12.59375 18.140625 9.296875 \r\nQ 21.78125 6 27 6 \r\nQ 33.203125 6 37.46875 10.296875 \r\nQ 41.75 14.59375 41.75 20.953125 \r\nQ 41.75 27 37.796875 30.921875 \r\nQ 33.84375 34.859375 27.734375 34.859375 \r\nQ 25.25 34.859375 21.53125 33.890625 \r\nL 22.515625 41.609375 \r\nQ 23.390625 41.5 23.921875 41.5 \r\nQ 29.546875 41.5 34.03125 44.421875 \r\nQ 38.53125 47.359375 38.53125 53.46875 \r\nQ 38.53125 58.296875 35.25 61.46875 \r\nQ 31.984375 64.65625 26.8125 64.65625 \r\nQ 21.6875 64.65625 18.265625 61.421875 \r\nQ 14.84375 58.203125 13.875 51.765625 \r\nL 5.078125 53.328125 \r\nQ 6.6875 62.15625 12.390625 67.015625 \r\nQ 18.109375 71.875 26.609375 71.875 \r\nQ 32.46875 71.875 37.390625 69.359375 \r\nQ 42.328125 66.84375 44.9375 62.5 \r\nQ 47.5625 58.15625 47.5625 53.265625 \r\nQ 47.5625 48.640625 45.0625 44.828125 \r\nQ 42.578125 41.015625 37.703125 38.765625 \r\nQ 44.046875 37.3125 47.5625 32.6875 \r\nQ 51.078125 28.078125 51.078125 21.140625 \r\nQ 51.078125 11.765625 44.234375 5.25 \r\nQ 37.40625 -1.265625 26.953125 -1.265625 \r\nQ 17.53125 -1.265625 11.296875 4.34375 \r\nQ 5.078125 9.96875 4.203125 18.890625 \r\nz\r\n\" id=\"ArialMT-51\"/>\r\n       </defs>\r\n       <use xlink:href=\"#ArialMT-51\"/>\r\n       <use x=\"55.615234\" xlink:href=\"#ArialMT-48\"/>\r\n      </g>\r\n     </g>\r\n    </g>\r\n    <g id=\"xtick_5\">\r\n     <g id=\"line2d_9\">\r\n      <path clip-path=\"url(#pd778e31b3c)\" d=\"M 378.443037 295.191562 \r\nL 378.443037 23.391562 \r\n\" style=\"fill:none;stroke:#cccccc;stroke-linecap:round;stroke-width:0.8;\"/>\r\n     </g>\r\n     <g id=\"line2d_10\"/>\r\n     <g id=\"text_5\">\r\n      <!-- 40 -->\r\n      <g style=\"fill:#262626;\" transform=\"translate(372.8821 305.849375)scale(0.1 -0.1)\">\r\n       <defs>\r\n        <path d=\"M 32.328125 0 \r\nL 32.328125 17.140625 \r\nL 1.265625 17.140625 \r\nL 1.265625 25.203125 \r\nL 33.9375 71.578125 \r\nL 41.109375 71.578125 \r\nL 41.109375 25.203125 \r\nL 50.78125 25.203125 \r\nL 50.78125 17.140625 \r\nL 41.109375 17.140625 \r\nL 41.109375 0 \r\nz\r\nM 32.328125 25.203125 \r\nL 32.328125 57.46875 \r\nL 9.90625 25.203125 \r\nz\r\n\" id=\"ArialMT-52\"/>\r\n       </defs>\r\n       <use xlink:href=\"#ArialMT-52\"/>\r\n       <use x=\"55.615234\" xlink:href=\"#ArialMT-48\"/>\r\n      </g>\r\n     </g>\r\n    </g>\r\n    <g id=\"xtick_6\">\r\n     <g id=\"line2d_11\">\r\n      <path clip-path=\"url(#pd778e31b3c)\" d=\"M 459.932632 295.191562 \r\nL 459.932632 23.391562 \r\n\" style=\"fill:none;stroke:#cccccc;stroke-linecap:round;stroke-width:0.8;\"/>\r\n     </g>\r\n     <g id=\"line2d_12\"/>\r\n     <g id=\"text_6\">\r\n      <!-- 50 -->\r\n      <g style=\"fill:#262626;\" transform=\"translate(454.371695 305.849375)scale(0.1 -0.1)\">\r\n       <defs>\r\n        <path d=\"M 4.15625 18.75 \r\nL 13.375 19.53125 \r\nQ 14.40625 12.796875 18.140625 9.390625 \r\nQ 21.875 6 27.15625 6 \r\nQ 33.5 6 37.890625 10.78125 \r\nQ 42.28125 15.578125 42.28125 23.484375 \r\nQ 42.28125 31 38.0625 35.34375 \r\nQ 33.84375 39.703125 27 39.703125 \r\nQ 22.75 39.703125 19.328125 37.765625 \r\nQ 15.921875 35.84375 13.96875 32.765625 \r\nL 5.71875 33.84375 \r\nL 12.640625 70.609375 \r\nL 48.25 70.609375 \r\nL 48.25 62.203125 \r\nL 19.671875 62.203125 \r\nL 15.828125 42.96875 \r\nQ 22.265625 47.46875 29.34375 47.46875 \r\nQ 38.71875 47.46875 45.15625 40.96875 \r\nQ 51.609375 34.46875 51.609375 24.265625 \r\nQ 51.609375 14.546875 45.953125 7.46875 \r\nQ 39.0625 -1.21875 27.15625 -1.21875 \r\nQ 17.390625 -1.21875 11.203125 4.25 \r\nQ 5.03125 9.71875 4.15625 18.75 \r\nz\r\n\" id=\"ArialMT-53\"/>\r\n       </defs>\r\n       <use xlink:href=\"#ArialMT-53\"/>\r\n       <use x=\"55.615234\" xlink:href=\"#ArialMT-48\"/>\r\n      </g>\r\n     </g>\r\n    </g>\r\n    <g id=\"text_7\">\r\n     <!-- Dimensions -->\r\n     <g style=\"fill:#262626;\" transform=\"translate(228.939687 320.42625)scale(0.12 -0.12)\">\r\n      <defs>\r\n       <path d=\"M 7.71875 0 \r\nL 7.71875 71.578125 \r\nL 32.375 71.578125 \r\nQ 40.71875 71.578125 45.125 70.5625 \r\nQ 51.265625 69.140625 55.609375 65.4375 \r\nQ 61.28125 60.640625 64.078125 53.1875 \r\nQ 66.890625 45.75 66.890625 36.1875 \r\nQ 66.890625 28.03125 64.984375 21.734375 \r\nQ 63.09375 15.4375 60.109375 11.296875 \r\nQ 57.125 7.171875 53.578125 4.796875 \r\nQ 50.046875 2.4375 45.046875 1.21875 \r\nQ 40.046875 0 33.546875 0 \r\nz\r\nM 17.1875 8.453125 \r\nL 32.46875 8.453125 \r\nQ 39.546875 8.453125 43.578125 9.765625 \r\nQ 47.609375 11.078125 50 13.484375 \r\nQ 53.375 16.84375 55.25 22.53125 \r\nQ 57.125 28.21875 57.125 36.328125 \r\nQ 57.125 47.5625 53.4375 53.59375 \r\nQ 49.75 59.625 44.484375 61.671875 \r\nQ 40.671875 63.140625 32.234375 63.140625 \r\nL 17.1875 63.140625 \r\nz\r\n\" id=\"ArialMT-68\"/>\r\n       <path d=\"M 6.640625 61.46875 \r\nL 6.640625 71.578125 \r\nL 15.4375 71.578125 \r\nL 15.4375 61.46875 \r\nz\r\nM 6.640625 0 \r\nL 6.640625 51.859375 \r\nL 15.4375 51.859375 \r\nL 15.4375 0 \r\nz\r\n\" id=\"ArialMT-105\"/>\r\n       <path d=\"M 6.59375 0 \r\nL 6.59375 51.859375 \r\nL 14.453125 51.859375 \r\nL 14.453125 44.578125 \r\nQ 16.890625 48.390625 20.9375 50.703125 \r\nQ 25 53.03125 30.171875 53.03125 \r\nQ 35.9375 53.03125 39.625 50.640625 \r\nQ 43.3125 48.25 44.828125 43.953125 \r\nQ 50.984375 53.03125 60.84375 53.03125 \r\nQ 68.5625 53.03125 72.703125 48.75 \r\nQ 76.859375 44.484375 76.859375 35.59375 \r\nL 76.859375 0 \r\nL 68.109375 0 \r\nL 68.109375 32.671875 \r\nQ 68.109375 37.9375 67.25 40.25 \r\nQ 66.40625 42.578125 64.15625 43.984375 \r\nQ 61.921875 45.40625 58.890625 45.40625 \r\nQ 53.421875 45.40625 49.796875 41.765625 \r\nQ 46.1875 38.140625 46.1875 30.125 \r\nL 46.1875 0 \r\nL 37.40625 0 \r\nL 37.40625 33.6875 \r\nQ 37.40625 39.546875 35.25 42.46875 \r\nQ 33.109375 45.40625 28.21875 45.40625 \r\nQ 24.515625 45.40625 21.359375 43.453125 \r\nQ 18.21875 41.5 16.796875 37.734375 \r\nQ 15.375 33.984375 15.375 26.90625 \r\nL 15.375 0 \r\nz\r\n\" id=\"ArialMT-109\"/>\r\n       <path d=\"M 42.09375 16.703125 \r\nL 51.171875 15.578125 \r\nQ 49.03125 7.625 43.21875 3.21875 \r\nQ 37.40625 -1.171875 28.375 -1.171875 \r\nQ 17 -1.171875 10.328125 5.828125 \r\nQ 3.65625 12.84375 3.65625 25.484375 \r\nQ 3.65625 38.578125 10.390625 45.796875 \r\nQ 17.140625 53.03125 27.875 53.03125 \r\nQ 38.28125 53.03125 44.875 45.953125 \r\nQ 51.46875 38.875 51.46875 26.03125 \r\nQ 51.46875 25.25 51.421875 23.6875 \r\nL 12.75 23.6875 \r\nQ 13.234375 15.140625 17.578125 10.59375 \r\nQ 21.921875 6.0625 28.421875 6.0625 \r\nQ 33.25 6.0625 36.671875 8.59375 \r\nQ 40.09375 11.140625 42.09375 16.703125 \r\nz\r\nM 13.234375 30.90625 \r\nL 42.1875 30.90625 \r\nQ 41.609375 37.453125 38.875 40.71875 \r\nQ 34.671875 45.796875 27.984375 45.796875 \r\nQ 21.921875 45.796875 17.796875 41.75 \r\nQ 13.671875 37.703125 13.234375 30.90625 \r\nz\r\n\" id=\"ArialMT-101\"/>\r\n       <path d=\"M 6.59375 0 \r\nL 6.59375 51.859375 \r\nL 14.5 51.859375 \r\nL 14.5 44.484375 \r\nQ 20.21875 53.03125 31 53.03125 \r\nQ 35.6875 53.03125 39.625 51.34375 \r\nQ 43.5625 49.65625 45.515625 46.921875 \r\nQ 47.46875 44.1875 48.25 40.4375 \r\nQ 48.734375 37.984375 48.734375 31.890625 \r\nL 48.734375 0 \r\nL 39.9375 0 \r\nL 39.9375 31.546875 \r\nQ 39.9375 36.921875 38.90625 39.578125 \r\nQ 37.890625 42.234375 35.28125 43.8125 \r\nQ 32.671875 45.40625 29.15625 45.40625 \r\nQ 23.53125 45.40625 19.453125 41.84375 \r\nQ 15.375 38.28125 15.375 28.328125 \r\nL 15.375 0 \r\nz\r\n\" id=\"ArialMT-110\"/>\r\n       <path d=\"M 3.078125 15.484375 \r\nL 11.765625 16.84375 \r\nQ 12.5 11.625 15.84375 8.84375 \r\nQ 19.1875 6.0625 25.203125 6.0625 \r\nQ 31.25 6.0625 34.171875 8.515625 \r\nQ 37.109375 10.984375 37.109375 14.3125 \r\nQ 37.109375 17.28125 34.515625 19 \r\nQ 32.71875 20.171875 25.53125 21.96875 \r\nQ 15.875 24.421875 12.140625 26.203125 \r\nQ 8.40625 27.984375 6.46875 31.125 \r\nQ 4.546875 34.28125 4.546875 38.09375 \r\nQ 4.546875 41.546875 6.125 44.5 \r\nQ 7.71875 47.46875 10.453125 49.421875 \r\nQ 12.5 50.921875 16.03125 51.96875 \r\nQ 19.578125 53.03125 23.640625 53.03125 \r\nQ 29.734375 53.03125 34.34375 51.265625 \r\nQ 38.96875 49.515625 41.15625 46.5 \r\nQ 43.359375 43.5 44.1875 38.484375 \r\nL 35.59375 37.3125 \r\nQ 35.015625 41.3125 32.203125 43.546875 \r\nQ 29.390625 45.796875 24.265625 45.796875 \r\nQ 18.21875 45.796875 15.625 43.796875 \r\nQ 13.03125 41.796875 13.03125 39.109375 \r\nQ 13.03125 37.40625 14.109375 36.03125 \r\nQ 15.1875 34.625 17.484375 33.6875 \r\nQ 18.796875 33.203125 25.25 31.453125 \r\nQ 34.578125 28.953125 38.25 27.359375 \r\nQ 41.9375 25.78125 44.03125 22.75 \r\nQ 46.140625 19.734375 46.140625 15.234375 \r\nQ 46.140625 10.84375 43.578125 6.953125 \r\nQ 41.015625 3.078125 36.171875 0.953125 \r\nQ 31.34375 -1.171875 25.25 -1.171875 \r\nQ 15.140625 -1.171875 9.84375 3.03125 \r\nQ 4.546875 7.234375 3.078125 15.484375 \r\nz\r\n\" id=\"ArialMT-115\"/>\r\n       <path d=\"M 3.328125 25.921875 \r\nQ 3.328125 40.328125 11.328125 47.265625 \r\nQ 18.015625 53.03125 27.640625 53.03125 \r\nQ 38.328125 53.03125 45.109375 46.015625 \r\nQ 51.90625 39.015625 51.90625 26.65625 \r\nQ 51.90625 16.65625 48.90625 10.90625 \r\nQ 45.90625 5.171875 40.15625 2 \r\nQ 34.421875 -1.171875 27.640625 -1.171875 \r\nQ 16.75 -1.171875 10.03125 5.8125 \r\nQ 3.328125 12.796875 3.328125 25.921875 \r\nz\r\nM 12.359375 25.921875 \r\nQ 12.359375 15.96875 16.703125 11.015625 \r\nQ 21.046875 6.0625 27.640625 6.0625 \r\nQ 34.1875 6.0625 38.53125 11.03125 \r\nQ 42.875 16.015625 42.875 26.21875 \r\nQ 42.875 35.84375 38.5 40.796875 \r\nQ 34.125 45.75 27.640625 45.75 \r\nQ 21.046875 45.75 16.703125 40.8125 \r\nQ 12.359375 35.890625 12.359375 25.921875 \r\nz\r\n\" id=\"ArialMT-111\"/>\r\n      </defs>\r\n      <use xlink:href=\"#ArialMT-68\"/>\r\n      <use x=\"72.216797\" xlink:href=\"#ArialMT-105\"/>\r\n      <use x=\"94.433594\" xlink:href=\"#ArialMT-109\"/>\r\n      <use x=\"177.734375\" xlink:href=\"#ArialMT-101\"/>\r\n      <use x=\"233.349609\" xlink:href=\"#ArialMT-110\"/>\r\n      <use x=\"288.964844\" xlink:href=\"#ArialMT-115\"/>\r\n      <use x=\"338.964844\" xlink:href=\"#ArialMT-105\"/>\r\n      <use x=\"361.181641\" xlink:href=\"#ArialMT-111\"/>\r\n      <use x=\"416.796875\" xlink:href=\"#ArialMT-110\"/>\r\n      <use x=\"472.412109\" xlink:href=\"#ArialMT-115\"/>\r\n     </g>\r\n    </g>\r\n   </g>\r\n   <g id=\"matplotlib.axis_2\">\r\n    <g id=\"ytick_1\">\r\n     <g id=\"line2d_13\">\r\n      <path clip-path=\"url(#pd778e31b3c)\" d=\"M 37.083125 295.191562 \r\nL 483.483125 295.191562 \r\n\" style=\"fill:none;stroke:#cccccc;stroke-linecap:round;stroke-width:0.8;\"/>\r\n     </g>\r\n     <g id=\"line2d_14\"/>\r\n     <g id=\"text_8\">\r\n      <!-- 0 -->\r\n      <g style=\"fill:#262626;\" transform=\"translate(28.022188 298.770469)scale(0.1 -0.1)\">\r\n       <use xlink:href=\"#ArialMT-48\"/>\r\n      </g>\r\n     </g>\r\n    </g>\r\n    <g id=\"ytick_2\">\r\n     <g id=\"line2d_15\">\r\n      <path clip-path=\"url(#pd778e31b3c)\" d=\"M 37.083125 249.702091 \r\nL 483.483125 249.702091 \r\n\" style=\"fill:none;stroke:#cccccc;stroke-linecap:round;stroke-width:0.8;\"/>\r\n     </g>\r\n     <g id=\"line2d_16\"/>\r\n     <g id=\"text_9\">\r\n      <!-- 10 -->\r\n      <g style=\"fill:#262626;\" transform=\"translate(22.46125 253.280997)scale(0.1 -0.1)\">\r\n       <use xlink:href=\"#ArialMT-49\"/>\r\n       <use x=\"55.615234\" xlink:href=\"#ArialMT-48\"/>\r\n      </g>\r\n     </g>\r\n    </g>\r\n    <g id=\"ytick_3\">\r\n     <g id=\"line2d_17\">\r\n      <path clip-path=\"url(#pd778e31b3c)\" d=\"M 37.083125 204.21262 \r\nL 483.483125 204.21262 \r\n\" style=\"fill:none;stroke:#cccccc;stroke-linecap:round;stroke-width:0.8;\"/>\r\n     </g>\r\n     <g id=\"line2d_18\"/>\r\n     <g id=\"text_10\">\r\n      <!-- 20 -->\r\n      <g style=\"fill:#262626;\" transform=\"translate(22.46125 207.791526)scale(0.1 -0.1)\">\r\n       <use xlink:href=\"#ArialMT-50\"/>\r\n       <use x=\"55.615234\" xlink:href=\"#ArialMT-48\"/>\r\n      </g>\r\n     </g>\r\n    </g>\r\n    <g id=\"ytick_4\">\r\n     <g id=\"line2d_19\">\r\n      <path clip-path=\"url(#pd778e31b3c)\" d=\"M 37.083125 158.723148 \r\nL 483.483125 158.723148 \r\n\" style=\"fill:none;stroke:#cccccc;stroke-linecap:round;stroke-width:0.8;\"/>\r\n     </g>\r\n     <g id=\"line2d_20\"/>\r\n     <g id=\"text_11\">\r\n      <!-- 30 -->\r\n      <g style=\"fill:#262626;\" transform=\"translate(22.46125 162.302055)scale(0.1 -0.1)\">\r\n       <use xlink:href=\"#ArialMT-51\"/>\r\n       <use x=\"55.615234\" xlink:href=\"#ArialMT-48\"/>\r\n      </g>\r\n     </g>\r\n    </g>\r\n    <g id=\"ytick_5\">\r\n     <g id=\"line2d_21\">\r\n      <path clip-path=\"url(#pd778e31b3c)\" d=\"M 37.083125 113.233677 \r\nL 483.483125 113.233677 \r\n\" style=\"fill:none;stroke:#cccccc;stroke-linecap:round;stroke-width:0.8;\"/>\r\n     </g>\r\n     <g id=\"line2d_22\"/>\r\n     <g id=\"text_12\">\r\n      <!-- 40 -->\r\n      <g style=\"fill:#262626;\" transform=\"translate(22.46125 116.812583)scale(0.1 -0.1)\">\r\n       <use xlink:href=\"#ArialMT-52\"/>\r\n       <use x=\"55.615234\" xlink:href=\"#ArialMT-48\"/>\r\n      </g>\r\n     </g>\r\n    </g>\r\n    <g id=\"ytick_6\">\r\n     <g id=\"line2d_23\">\r\n      <path clip-path=\"url(#pd778e31b3c)\" d=\"M 37.083125 67.744206 \r\nL 483.483125 67.744206 \r\n\" style=\"fill:none;stroke:#cccccc;stroke-linecap:round;stroke-width:0.8;\"/>\r\n     </g>\r\n     <g id=\"line2d_24\"/>\r\n     <g id=\"text_13\">\r\n      <!-- 50 -->\r\n      <g style=\"fill:#262626;\" transform=\"translate(22.46125 71.323112)scale(0.1 -0.1)\">\r\n       <use xlink:href=\"#ArialMT-53\"/>\r\n       <use x=\"55.615234\" xlink:href=\"#ArialMT-48\"/>\r\n      </g>\r\n     </g>\r\n    </g>\r\n    <g id=\"text_14\">\r\n     <!-- Percentage of explained variances -->\r\n     <g style=\"fill:#262626;\" transform=\"translate(15.935625 251.344687)rotate(-90)scale(0.12 -0.12)\">\r\n      <defs>\r\n       <path d=\"M 7.71875 0 \r\nL 7.71875 71.578125 \r\nL 34.71875 71.578125 \r\nQ 41.84375 71.578125 45.609375 70.90625 \r\nQ 50.875 70.015625 54.4375 67.546875 \r\nQ 58.015625 65.09375 60.1875 60.640625 \r\nQ 62.359375 56.203125 62.359375 50.875 \r\nQ 62.359375 41.75 56.546875 35.421875 \r\nQ 50.734375 29.109375 35.546875 29.109375 \r\nL 17.1875 29.109375 \r\nL 17.1875 0 \r\nz\r\nM 17.1875 37.546875 \r\nL 35.6875 37.546875 \r\nQ 44.875 37.546875 48.734375 40.96875 \r\nQ 52.59375 44.390625 52.59375 50.59375 \r\nQ 52.59375 55.078125 50.3125 58.265625 \r\nQ 48.046875 61.46875 44.34375 62.5 \r\nQ 41.9375 63.140625 35.5 63.140625 \r\nL 17.1875 63.140625 \r\nz\r\n\" id=\"ArialMT-80\"/>\r\n       <path d=\"M 6.5 0 \r\nL 6.5 51.859375 \r\nL 14.40625 51.859375 \r\nL 14.40625 44 \r\nQ 17.4375 49.515625 20 51.265625 \r\nQ 22.5625 53.03125 25.640625 53.03125 \r\nQ 30.078125 53.03125 34.671875 50.203125 \r\nL 31.640625 42.046875 \r\nQ 28.421875 43.953125 25.203125 43.953125 \r\nQ 22.3125 43.953125 20.015625 42.21875 \r\nQ 17.71875 40.484375 16.75 37.40625 \r\nQ 15.28125 32.71875 15.28125 27.15625 \r\nL 15.28125 0 \r\nz\r\n\" id=\"ArialMT-114\"/>\r\n       <path d=\"M 40.4375 19 \r\nL 49.078125 17.875 \r\nQ 47.65625 8.9375 41.8125 3.875 \r\nQ 35.984375 -1.171875 27.484375 -1.171875 \r\nQ 16.84375 -1.171875 10.375 5.78125 \r\nQ 3.90625 12.75 3.90625 25.734375 \r\nQ 3.90625 34.125 6.6875 40.421875 \r\nQ 9.46875 46.734375 15.15625 49.875 \r\nQ 20.84375 53.03125 27.546875 53.03125 \r\nQ 35.984375 53.03125 41.359375 48.75 \r\nQ 46.734375 44.484375 48.25 36.625 \r\nL 39.703125 35.296875 \r\nQ 38.484375 40.53125 35.375 43.15625 \r\nQ 32.28125 45.796875 27.875 45.796875 \r\nQ 21.234375 45.796875 17.078125 41.03125 \r\nQ 12.9375 36.28125 12.9375 25.984375 \r\nQ 12.9375 15.53125 16.9375 10.796875 \r\nQ 20.953125 6.0625 27.390625 6.0625 \r\nQ 32.5625 6.0625 36.03125 9.234375 \r\nQ 39.5 12.40625 40.4375 19 \r\nz\r\n\" id=\"ArialMT-99\"/>\r\n       <path d=\"M 25.78125 7.859375 \r\nL 27.046875 0.09375 \r\nQ 23.34375 -0.6875 20.40625 -0.6875 \r\nQ 15.625 -0.6875 12.984375 0.828125 \r\nQ 10.359375 2.34375 9.28125 4.8125 \r\nQ 8.203125 7.28125 8.203125 15.1875 \r\nL 8.203125 45.015625 \r\nL 1.765625 45.015625 \r\nL 1.765625 51.859375 \r\nL 8.203125 51.859375 \r\nL 8.203125 64.703125 \r\nL 16.9375 69.96875 \r\nL 16.9375 51.859375 \r\nL 25.78125 51.859375 \r\nL 25.78125 45.015625 \r\nL 16.9375 45.015625 \r\nL 16.9375 14.703125 \r\nQ 16.9375 10.9375 17.40625 9.859375 \r\nQ 17.875 8.796875 18.921875 8.15625 \r\nQ 19.96875 7.515625 21.921875 7.515625 \r\nQ 23.390625 7.515625 25.78125 7.859375 \r\nz\r\n\" id=\"ArialMT-116\"/>\r\n       <path d=\"M 40.4375 6.390625 \r\nQ 35.546875 2.25 31.03125 0.53125 \r\nQ 26.515625 -1.171875 21.34375 -1.171875 \r\nQ 12.796875 -1.171875 8.203125 3 \r\nQ 3.609375 7.171875 3.609375 13.671875 \r\nQ 3.609375 17.484375 5.34375 20.625 \r\nQ 7.078125 23.78125 9.890625 25.6875 \r\nQ 12.703125 27.59375 16.21875 28.5625 \r\nQ 18.796875 29.25 24.03125 29.890625 \r\nQ 34.671875 31.15625 39.703125 32.90625 \r\nQ 39.75 34.71875 39.75 35.203125 \r\nQ 39.75 40.578125 37.25 42.78125 \r\nQ 33.890625 45.75 27.25 45.75 \r\nQ 21.046875 45.75 18.09375 43.578125 \r\nQ 15.140625 41.40625 13.71875 35.890625 \r\nL 5.125 37.0625 \r\nQ 6.296875 42.578125 8.984375 45.96875 \r\nQ 11.671875 49.359375 16.75 51.1875 \r\nQ 21.828125 53.03125 28.515625 53.03125 \r\nQ 35.15625 53.03125 39.296875 51.46875 \r\nQ 43.453125 49.90625 45.40625 47.53125 \r\nQ 47.359375 45.171875 48.140625 41.546875 \r\nQ 48.578125 39.3125 48.578125 33.453125 \r\nL 48.578125 21.734375 \r\nQ 48.578125 9.46875 49.140625 6.21875 \r\nQ 49.703125 2.984375 51.375 0 \r\nL 42.1875 0 \r\nQ 40.828125 2.734375 40.4375 6.390625 \r\nz\r\nM 39.703125 26.03125 \r\nQ 34.90625 24.078125 25.34375 22.703125 \r\nQ 19.921875 21.921875 17.671875 20.9375 \r\nQ 15.4375 19.96875 14.203125 18.09375 \r\nQ 12.984375 16.21875 12.984375 13.921875 \r\nQ 12.984375 10.40625 15.640625 8.0625 \r\nQ 18.3125 5.71875 23.4375 5.71875 \r\nQ 28.515625 5.71875 32.46875 7.9375 \r\nQ 36.421875 10.15625 38.28125 14.015625 \r\nQ 39.703125 17 39.703125 22.796875 \r\nz\r\n\" id=\"ArialMT-97\"/>\r\n       <path d=\"M 4.984375 -4.296875 \r\nL 13.53125 -5.5625 \r\nQ 14.0625 -9.515625 16.5 -11.328125 \r\nQ 19.78125 -13.765625 25.4375 -13.765625 \r\nQ 31.546875 -13.765625 34.859375 -11.328125 \r\nQ 38.1875 -8.890625 39.359375 -4.5 \r\nQ 40.046875 -1.8125 39.984375 6.78125 \r\nQ 34.234375 0 25.640625 0 \r\nQ 14.9375 0 9.078125 7.71875 \r\nQ 3.21875 15.4375 3.21875 26.21875 \r\nQ 3.21875 33.640625 5.90625 39.90625 \r\nQ 8.59375 46.1875 13.6875 49.609375 \r\nQ 18.796875 53.03125 25.6875 53.03125 \r\nQ 34.859375 53.03125 40.828125 45.609375 \r\nL 40.828125 51.859375 \r\nL 48.921875 51.859375 \r\nL 48.921875 7.03125 \r\nQ 48.921875 -5.078125 46.453125 -10.125 \r\nQ 44 -15.1875 38.640625 -18.109375 \r\nQ 33.296875 -21.046875 25.484375 -21.046875 \r\nQ 16.21875 -21.046875 10.5 -16.875 \r\nQ 4.78125 -12.703125 4.984375 -4.296875 \r\nz\r\nM 12.25 26.859375 \r\nQ 12.25 16.65625 16.296875 11.96875 \r\nQ 20.359375 7.28125 26.46875 7.28125 \r\nQ 32.515625 7.28125 36.609375 11.9375 \r\nQ 40.71875 16.609375 40.71875 26.5625 \r\nQ 40.71875 36.078125 36.5 40.90625 \r\nQ 32.28125 45.75 26.3125 45.75 \r\nQ 20.453125 45.75 16.34375 40.984375 \r\nQ 12.25 36.234375 12.25 26.859375 \r\nz\r\n\" id=\"ArialMT-103\"/>\r\n       <path id=\"ArialMT-32\"/>\r\n       <path d=\"M 8.6875 0 \r\nL 8.6875 45.015625 \r\nL 0.921875 45.015625 \r\nL 0.921875 51.859375 \r\nL 8.6875 51.859375 \r\nL 8.6875 57.375 \r\nQ 8.6875 62.59375 9.625 65.140625 \r\nQ 10.890625 68.5625 14.078125 70.671875 \r\nQ 17.28125 72.796875 23.046875 72.796875 \r\nQ 26.765625 72.796875 31.25 71.921875 \r\nL 29.9375 64.265625 \r\nQ 27.203125 64.75 24.75 64.75 \r\nQ 20.75 64.75 19.09375 63.03125 \r\nQ 17.4375 61.328125 17.4375 56.640625 \r\nL 17.4375 51.859375 \r\nL 27.546875 51.859375 \r\nL 27.546875 45.015625 \r\nL 17.4375 45.015625 \r\nL 17.4375 0 \r\nz\r\n\" id=\"ArialMT-102\"/>\r\n       <path d=\"M 0.734375 0 \r\nL 19.671875 26.953125 \r\nL 2.15625 51.859375 \r\nL 13.140625 51.859375 \r\nL 21.09375 39.703125 \r\nQ 23.34375 36.234375 24.703125 33.890625 \r\nQ 26.859375 37.109375 28.65625 39.59375 \r\nL 37.40625 51.859375 \r\nL 47.90625 51.859375 \r\nL 29.984375 27.4375 \r\nL 49.265625 0 \r\nL 38.484375 0 \r\nL 27.828125 16.109375 \r\nL 25 20.453125 \r\nL 11.375 0 \r\nz\r\n\" id=\"ArialMT-120\"/>\r\n       <path d=\"M 6.59375 -19.875 \r\nL 6.59375 51.859375 \r\nL 14.59375 51.859375 \r\nL 14.59375 45.125 \r\nQ 17.4375 49.078125 21 51.046875 \r\nQ 24.5625 53.03125 29.640625 53.03125 \r\nQ 36.28125 53.03125 41.359375 49.609375 \r\nQ 46.4375 46.1875 49.015625 39.953125 \r\nQ 51.609375 33.734375 51.609375 26.3125 \r\nQ 51.609375 18.359375 48.75 11.984375 \r\nQ 45.90625 5.609375 40.453125 2.21875 \r\nQ 35.015625 -1.171875 29 -1.171875 \r\nQ 24.609375 -1.171875 21.109375 0.6875 \r\nQ 17.625 2.546875 15.375 5.375 \r\nL 15.375 -19.875 \r\nz\r\nM 14.546875 25.640625 \r\nQ 14.546875 15.625 18.59375 10.84375 \r\nQ 22.65625 6.0625 28.421875 6.0625 \r\nQ 34.28125 6.0625 38.453125 11.015625 \r\nQ 42.625 15.96875 42.625 26.375 \r\nQ 42.625 36.28125 38.546875 41.203125 \r\nQ 34.46875 46.140625 28.8125 46.140625 \r\nQ 23.1875 46.140625 18.859375 40.890625 \r\nQ 14.546875 35.640625 14.546875 25.640625 \r\nz\r\n\" id=\"ArialMT-112\"/>\r\n       <path d=\"M 6.390625 0 \r\nL 6.390625 71.578125 \r\nL 15.1875 71.578125 \r\nL 15.1875 0 \r\nz\r\n\" id=\"ArialMT-108\"/>\r\n       <path d=\"M 40.234375 0 \r\nL 40.234375 6.546875 \r\nQ 35.296875 -1.171875 25.734375 -1.171875 \r\nQ 19.53125 -1.171875 14.328125 2.25 \r\nQ 9.125 5.671875 6.265625 11.796875 \r\nQ 3.421875 17.921875 3.421875 25.875 \r\nQ 3.421875 33.640625 6 39.96875 \r\nQ 8.59375 46.296875 13.765625 49.65625 \r\nQ 18.953125 53.03125 25.34375 53.03125 \r\nQ 30.03125 53.03125 33.6875 51.046875 \r\nQ 37.359375 49.078125 39.65625 45.90625 \r\nL 39.65625 71.578125 \r\nL 48.390625 71.578125 \r\nL 48.390625 0 \r\nz\r\nM 12.453125 25.875 \r\nQ 12.453125 15.921875 16.640625 10.984375 \r\nQ 20.84375 6.0625 26.5625 6.0625 \r\nQ 32.328125 6.0625 36.34375 10.765625 \r\nQ 40.375 15.484375 40.375 25.140625 \r\nQ 40.375 35.796875 36.265625 40.765625 \r\nQ 32.171875 45.75 26.171875 45.75 \r\nQ 20.3125 45.75 16.375 40.96875 \r\nQ 12.453125 36.1875 12.453125 25.875 \r\nz\r\n\" id=\"ArialMT-100\"/>\r\n       <path d=\"M 21 0 \r\nL 1.265625 51.859375 \r\nL 10.546875 51.859375 \r\nL 21.6875 20.796875 \r\nQ 23.484375 15.765625 25 10.359375 \r\nQ 26.171875 14.453125 28.265625 20.21875 \r\nL 39.796875 51.859375 \r\nL 48.828125 51.859375 \r\nL 29.203125 0 \r\nz\r\n\" id=\"ArialMT-118\"/>\r\n      </defs>\r\n      <use xlink:href=\"#ArialMT-80\"/>\r\n      <use x=\"66.699219\" xlink:href=\"#ArialMT-101\"/>\r\n      <use x=\"122.314453\" xlink:href=\"#ArialMT-114\"/>\r\n      <use x=\"155.615234\" xlink:href=\"#ArialMT-99\"/>\r\n      <use x=\"205.615234\" xlink:href=\"#ArialMT-101\"/>\r\n      <use x=\"261.230469\" xlink:href=\"#ArialMT-110\"/>\r\n      <use x=\"316.845703\" xlink:href=\"#ArialMT-116\"/>\r\n      <use x=\"344.628906\" xlink:href=\"#ArialMT-97\"/>\r\n      <use x=\"400.244141\" xlink:href=\"#ArialMT-103\"/>\r\n      <use x=\"455.859375\" xlink:href=\"#ArialMT-101\"/>\r\n      <use x=\"511.474609\" xlink:href=\"#ArialMT-32\"/>\r\n      <use x=\"539.257812\" xlink:href=\"#ArialMT-111\"/>\r\n      <use x=\"594.873047\" xlink:href=\"#ArialMT-102\"/>\r\n      <use x=\"622.65625\" xlink:href=\"#ArialMT-32\"/>\r\n      <use x=\"650.439453\" xlink:href=\"#ArialMT-101\"/>\r\n      <use x=\"706.054688\" xlink:href=\"#ArialMT-120\"/>\r\n      <use x=\"756.054688\" xlink:href=\"#ArialMT-112\"/>\r\n      <use x=\"811.669922\" xlink:href=\"#ArialMT-108\"/>\r\n      <use x=\"833.886719\" xlink:href=\"#ArialMT-97\"/>\r\n      <use x=\"889.501953\" xlink:href=\"#ArialMT-105\"/>\r\n      <use x=\"911.71875\" xlink:href=\"#ArialMT-110\"/>\r\n      <use x=\"967.333984\" xlink:href=\"#ArialMT-101\"/>\r\n      <use x=\"1022.949219\" xlink:href=\"#ArialMT-100\"/>\r\n      <use x=\"1078.564453\" xlink:href=\"#ArialMT-32\"/>\r\n      <use x=\"1106.347656\" xlink:href=\"#ArialMT-118\"/>\r\n      <use x=\"1156.347656\" xlink:href=\"#ArialMT-97\"/>\r\n      <use x=\"1211.962891\" xlink:href=\"#ArialMT-114\"/>\r\n      <use x=\"1245.263672\" xlink:href=\"#ArialMT-105\"/>\r\n      <use x=\"1267.480469\" xlink:href=\"#ArialMT-97\"/>\r\n      <use x=\"1323.095703\" xlink:href=\"#ArialMT-110\"/>\r\n      <use x=\"1378.710938\" xlink:href=\"#ArialMT-99\"/>\r\n      <use x=\"1428.710938\" xlink:href=\"#ArialMT-101\"/>\r\n      <use x=\"1484.326172\" xlink:href=\"#ArialMT-115\"/>\r\n     </g>\r\n    </g>\r\n   </g>\r\n   <g id=\"patch_3\">\r\n    <path clip-path=\"url(#pd778e31b3c)\" d=\"M 57.374034 295.191562 \r\nL 63.893202 295.191562 \r\nL 63.893202 36.33442 \r\nL 57.374034 36.33442 \r\nz\r\n\" style=\"fill:#34738c;\"/>\r\n   </g>\r\n   <g id=\"patch_4\">\r\n    <path clip-path=\"url(#pd778e31b3c)\" d=\"M 65.522994 295.191562 \r\nL 72.042161 295.191562 \r\nL 72.042161 262.831971 \r\nL 65.522994 262.831971 \r\nz\r\n\" style=\"fill:#34738c;\"/>\r\n   </g>\r\n   <g id=\"patch_5\">\r\n    <path clip-path=\"url(#pd778e31b3c)\" d=\"M 73.671953 295.191562 \r\nL 80.191121 295.191562 \r\nL 80.191121 279.062431 \r\nL 73.671953 279.062431 \r\nz\r\n\" style=\"fill:#34738c;\"/>\r\n   </g>\r\n   <g id=\"patch_6\">\r\n    <path clip-path=\"url(#pd778e31b3c)\" d=\"M 81.820913 295.191562 \r\nL 88.34008 295.191562 \r\nL 88.34008 286.007203 \r\nL 81.820913 286.007203 \r\nz\r\n\" style=\"fill:#34738c;\"/>\r\n   </g>\r\n   <g id=\"patch_7\">\r\n    <path clip-path=\"url(#pd778e31b3c)\" d=\"M 89.969872 295.191562 \r\nL 96.48904 295.191562 \r\nL 96.48904 289.829365 \r\nL 89.969872 289.829365 \r\nz\r\n\" style=\"fill:#34738c;\"/>\r\n   </g>\r\n   <g id=\"patch_8\">\r\n    <path clip-path=\"url(#pd778e31b3c)\" d=\"M 98.118831 295.191562 \r\nL 104.637999 295.191562 \r\nL 104.637999 292.773907 \r\nL 98.118831 292.773907 \r\nz\r\n\" style=\"fill:#34738c;\"/>\r\n   </g>\r\n   <g id=\"patch_9\">\r\n    <path clip-path=\"url(#pd778e31b3c)\" d=\"M 106.267791 295.191562 \r\nL 112.786959 295.191562 \r\nL 112.786959 292.994021 \r\nL 106.267791 292.994021 \r\nz\r\n\" style=\"fill:#34738c;\"/>\r\n   </g>\r\n   <g id=\"patch_10\">\r\n    <path clip-path=\"url(#pd778e31b3c)\" d=\"M 114.41675 295.191562 \r\nL 120.935918 295.191562 \r\nL 120.935918 293.330605 \r\nL 114.41675 293.330605 \r\nz\r\n\" style=\"fill:#34738c;\"/>\r\n   </g>\r\n   <g id=\"patch_11\">\r\n    <path clip-path=\"url(#pd778e31b3c)\" d=\"M 122.56571 295.191562 \r\nL 129.084877 295.191562 \r\nL 129.084877 293.739328 \r\nL 122.56571 293.739328 \r\nz\r\n\" style=\"fill:#34738c;\"/>\r\n   </g>\r\n   <g id=\"patch_12\">\r\n    <path clip-path=\"url(#pd778e31b3c)\" d=\"M 130.714669 295.191562 \r\nL 137.233837 295.191562 \r\nL 137.233837 293.823451 \r\nL 130.714669 293.823451 \r\nz\r\n\" style=\"fill:#34738c;\"/>\r\n   </g>\r\n   <g id=\"patch_13\">\r\n    <path clip-path=\"url(#pd778e31b3c)\" d=\"M 138.863629 295.191562 \r\nL 145.382796 295.191562 \r\nL 145.382796 293.879792 \r\nL 138.863629 293.879792 \r\nz\r\n\" style=\"fill:#34738c;\"/>\r\n   </g>\r\n   <g id=\"patch_14\">\r\n    <path clip-path=\"url(#pd778e31b3c)\" d=\"M 147.012588 295.191562 \r\nL 153.531756 295.191562 \r\nL 153.531756 293.988879 \r\nL 147.012588 293.988879 \r\nz\r\n\" style=\"fill:#34738c;\"/>\r\n   </g>\r\n   <g id=\"patch_15\">\r\n    <path clip-path=\"url(#pd778e31b3c)\" d=\"M 155.161548 295.191562 \r\nL 161.680715 295.191562 \r\nL 161.680715 294.062515 \r\nL 155.161548 294.062515 \r\nz\r\n\" style=\"fill:#34738c;\"/>\r\n   </g>\r\n   <g id=\"patch_16\">\r\n    <path clip-path=\"url(#pd778e31b3c)\" d=\"M 163.310507 295.191562 \r\nL 169.829675 295.191562 \r\nL 169.829675 294.197011 \r\nL 163.310507 294.197011 \r\nz\r\n\" style=\"fill:#34738c;\"/>\r\n   </g>\r\n   <g id=\"patch_17\">\r\n    <path clip-path=\"url(#pd778e31b3c)\" d=\"M 171.459467 295.191562 \r\nL 177.978634 295.191562 \r\nL 177.978634 294.245172 \r\nL 171.459467 294.245172 \r\nz\r\n\" style=\"fill:#34738c;\"/>\r\n   </g>\r\n   <g id=\"patch_18\">\r\n    <path clip-path=\"url(#pd778e31b3c)\" d=\"M 179.608426 295.191562 \r\nL 186.127594 295.191562 \r\nL 186.127594 294.279912 \r\nL 179.608426 294.279912 \r\nz\r\n\" style=\"fill:#34738c;\"/>\r\n   </g>\r\n   <g id=\"patch_19\">\r\n    <path clip-path=\"url(#pd778e31b3c)\" d=\"M 187.757386 295.191562 \r\nL 194.276553 295.191562 \r\nL 194.276553 294.335206 \r\nL 187.757386 294.335206 \r\nz\r\n\" style=\"fill:#34738c;\"/>\r\n   </g>\r\n   <g id=\"patch_20\">\r\n    <path clip-path=\"url(#pd778e31b3c)\" d=\"M 195.906345 295.191562 \r\nL 202.425513 295.191562 \r\nL 202.425513 294.351146 \r\nL 195.906345 294.351146 \r\nz\r\n\" style=\"fill:#34738c;\"/>\r\n   </g>\r\n   <g id=\"patch_21\">\r\n    <path clip-path=\"url(#pd778e31b3c)\" d=\"M 204.055305 295.191562 \r\nL 210.574472 295.191562 \r\nL 210.574472 294.370095 \r\nL 204.055305 294.370095 \r\nz\r\n\" style=\"fill:#34738c;\"/>\r\n   </g>\r\n   <g id=\"patch_22\">\r\n    <path clip-path=\"url(#pd778e31b3c)\" d=\"M 212.204264 295.191562 \r\nL 218.723432 295.191562 \r\nL 218.723432 294.375222 \r\nL 212.204264 294.375222 \r\nz\r\n\" style=\"fill:#34738c;\"/>\r\n   </g>\r\n   <g id=\"patch_23\">\r\n    <path clip-path=\"url(#pd778e31b3c)\" d=\"M 220.353224 295.191562 \r\nL 226.872391 295.191562 \r\nL 226.872391 294.394564 \r\nL 220.353224 294.394564 \r\nz\r\n\" style=\"fill:#34738c;\"/>\r\n   </g>\r\n   <g id=\"patch_24\">\r\n    <path clip-path=\"url(#pd778e31b3c)\" d=\"M 228.502183 295.191562 \r\nL 235.021351 295.191562 \r\nL 235.021351 294.402617 \r\nL 228.502183 294.402617 \r\nz\r\n\" style=\"fill:#34738c;\"/>\r\n   </g>\r\n   <g id=\"patch_25\">\r\n    <path clip-path=\"url(#pd778e31b3c)\" d=\"M 236.651143 295.191562 \r\nL 243.17031 295.191562 \r\nL 243.17031 294.436862 \r\nL 236.651143 294.436862 \r\nz\r\n\" style=\"fill:#34738c;\"/>\r\n   </g>\r\n   <g id=\"patch_26\">\r\n    <path clip-path=\"url(#pd778e31b3c)\" d=\"M 244.800102 295.191562 \r\nL 251.31927 295.191562 \r\nL 251.31927 294.460715 \r\nL 244.800102 294.460715 \r\nz\r\n\" style=\"fill:#34738c;\"/>\r\n   </g>\r\n   <g id=\"patch_27\">\r\n    <path clip-path=\"url(#pd778e31b3c)\" d=\"M 252.949061 295.191562 \r\nL 259.468229 295.191562 \r\nL 259.468229 294.469938 \r\nL 252.949061 294.469938 \r\nz\r\n\" style=\"fill:#34738c;\"/>\r\n   </g>\r\n   <g id=\"patch_28\">\r\n    <path clip-path=\"url(#pd778e31b3c)\" d=\"M 261.098021 295.191562 \r\nL 267.617189 295.191562 \r\nL 267.617189 294.488363 \r\nL 261.098021 294.488363 \r\nz\r\n\" style=\"fill:#34738c;\"/>\r\n   </g>\r\n   <g id=\"patch_29\">\r\n    <path clip-path=\"url(#pd778e31b3c)\" d=\"M 269.24698 295.191562 \r\nL 275.766148 295.191562 \r\nL 275.766148 294.502809 \r\nL 269.24698 294.502809 \r\nz\r\n\" style=\"fill:#34738c;\"/>\r\n   </g>\r\n   <g id=\"patch_30\">\r\n    <path clip-path=\"url(#pd778e31b3c)\" d=\"M 277.39594 295.191562 \r\nL 283.915107 295.191562 \r\nL 283.915107 294.525316 \r\nL 277.39594 294.525316 \r\nz\r\n\" style=\"fill:#34738c;\"/>\r\n   </g>\r\n   <g id=\"patch_31\">\r\n    <path clip-path=\"url(#pd778e31b3c)\" d=\"M 285.544899 295.191562 \r\nL 292.064067 295.191562 \r\nL 292.064067 294.529293 \r\nL 285.544899 294.529293 \r\nz\r\n\" style=\"fill:#34738c;\"/>\r\n   </g>\r\n   <g id=\"patch_32\">\r\n    <path clip-path=\"url(#pd778e31b3c)\" d=\"M 293.693859 295.191562 \r\nL 300.213026 295.191562 \r\nL 300.213026 294.530739 \r\nL 293.693859 294.530739 \r\nz\r\n\" style=\"fill:#34738c;\"/>\r\n   </g>\r\n   <g id=\"patch_33\">\r\n    <path clip-path=\"url(#pd778e31b3c)\" d=\"M 301.842818 295.191562 \r\nL 308.361986 295.191562 \r\nL 308.361986 294.535808 \r\nL 301.842818 294.535808 \r\nz\r\n\" style=\"fill:#34738c;\"/>\r\n   </g>\r\n   <g id=\"patch_34\">\r\n    <path clip-path=\"url(#pd778e31b3c)\" d=\"M 309.991778 295.191562 \r\nL 316.510945 295.191562 \r\nL 316.510945 294.561159 \r\nL 309.991778 294.561159 \r\nz\r\n\" style=\"fill:#34738c;\"/>\r\n   </g>\r\n   <g id=\"patch_35\">\r\n    <path clip-path=\"url(#pd778e31b3c)\" d=\"M 318.140737 295.191562 \r\nL 324.659905 295.191562 \r\nL 324.659905 294.577658 \r\nL 318.140737 294.577658 \r\nz\r\n\" style=\"fill:#34738c;\"/>\r\n   </g>\r\n   <g id=\"patch_36\">\r\n    <path clip-path=\"url(#pd778e31b3c)\" d=\"M 326.289697 295.191562 \r\nL 332.808864 295.191562 \r\nL 332.808864 294.583863 \r\nL 326.289697 294.583863 \r\nz\r\n\" style=\"fill:#34738c;\"/>\r\n   </g>\r\n   <g id=\"patch_37\">\r\n    <path clip-path=\"url(#pd778e31b3c)\" d=\"M 334.438656 295.191562 \r\nL 340.957824 295.191562 \r\nL 340.957824 294.591416 \r\nL 334.438656 294.591416 \r\nz\r\n\" style=\"fill:#34738c;\"/>\r\n   </g>\r\n   <g id=\"patch_38\">\r\n    <path clip-path=\"url(#pd778e31b3c)\" d=\"M 342.587616 295.191562 \r\nL 349.106783 295.191562 \r\nL 349.106783 294.595948 \r\nL 342.587616 294.595948 \r\nz\r\n\" style=\"fill:#34738c;\"/>\r\n   </g>\r\n   <g id=\"patch_39\">\r\n    <path clip-path=\"url(#pd778e31b3c)\" d=\"M 350.736575 295.191562 \r\nL 357.255743 295.191562 \r\nL 357.255743 294.613513 \r\nL 350.736575 294.613513 \r\nz\r\n\" style=\"fill:#34738c;\"/>\r\n   </g>\r\n   <g id=\"patch_40\">\r\n    <path clip-path=\"url(#pd778e31b3c)\" d=\"M 358.885535 295.191562 \r\nL 365.404702 295.191562 \r\nL 365.404702 294.620287 \r\nL 358.885535 294.620287 \r\nz\r\n\" style=\"fill:#34738c;\"/>\r\n   </g>\r\n   <g id=\"patch_41\">\r\n    <path clip-path=\"url(#pd778e31b3c)\" d=\"M 367.034494 295.191562 \r\nL 373.553662 295.191562 \r\nL 373.553662 294.633483 \r\nL 367.034494 294.633483 \r\nz\r\n\" style=\"fill:#34738c;\"/>\r\n   </g>\r\n   <g id=\"patch_42\">\r\n    <path clip-path=\"url(#pd778e31b3c)\" d=\"M 375.183454 295.191562 \r\nL 381.702621 295.191562 \r\nL 381.702621 294.650726 \r\nL 375.183454 294.650726 \r\nz\r\n\" style=\"fill:#34738c;\"/>\r\n   </g>\r\n   <g id=\"patch_43\">\r\n    <path clip-path=\"url(#pd778e31b3c)\" d=\"M 383.332413 295.191562 \r\nL 389.851581 295.191562 \r\nL 389.851581 294.660169 \r\nL 383.332413 294.660169 \r\nz\r\n\" style=\"fill:#34738c;\"/>\r\n   </g>\r\n   <g id=\"patch_44\">\r\n    <path clip-path=\"url(#pd778e31b3c)\" d=\"M 391.481373 295.191562 \r\nL 398.00054 295.191562 \r\nL 398.00054 294.669406 \r\nL 391.481373 294.669406 \r\nz\r\n\" style=\"fill:#34738c;\"/>\r\n   </g>\r\n   <g id=\"patch_45\">\r\n    <path clip-path=\"url(#pd778e31b3c)\" d=\"M 399.630332 295.191562 \r\nL 406.1495 295.191562 \r\nL 406.1495 294.69128 \r\nL 399.630332 294.69128 \r\nz\r\n\" style=\"fill:#34738c;\"/>\r\n   </g>\r\n   <g id=\"patch_46\">\r\n    <path clip-path=\"url(#pd778e31b3c)\" d=\"M 407.779291 295.191562 \r\nL 414.298459 295.191562 \r\nL 414.298459 294.696148 \r\nL 407.779291 294.696148 \r\nz\r\n\" style=\"fill:#34738c;\"/>\r\n   </g>\r\n   <g id=\"patch_47\">\r\n    <path clip-path=\"url(#pd778e31b3c)\" d=\"M 415.928251 295.191562 \r\nL 422.447419 295.191562 \r\nL 422.447419 294.699676 \r\nL 415.928251 294.699676 \r\nz\r\n\" style=\"fill:#34738c;\"/>\r\n   </g>\r\n   <g id=\"patch_48\">\r\n    <path clip-path=\"url(#pd778e31b3c)\" d=\"M 424.07721 295.191562 \r\nL 430.596378 295.191562 \r\nL 430.596378 294.710203 \r\nL 424.07721 294.710203 \r\nz\r\n\" style=\"fill:#34738c;\"/>\r\n   </g>\r\n   <g id=\"patch_49\">\r\n    <path clip-path=\"url(#pd778e31b3c)\" d=\"M 432.22617 295.191562 \r\nL 438.745337 295.191562 \r\nL 438.745337 294.721803 \r\nL 432.22617 294.721803 \r\nz\r\n\" style=\"fill:#34738c;\"/>\r\n   </g>\r\n   <g id=\"patch_50\">\r\n    <path clip-path=\"url(#pd778e31b3c)\" d=\"M 440.375129 295.191562 \r\nL 446.894297 295.191562 \r\nL 446.894297 294.73008 \r\nL 440.375129 294.73008 \r\nz\r\n\" style=\"fill:#34738c;\"/>\r\n   </g>\r\n   <g id=\"patch_51\">\r\n    <path clip-path=\"url(#pd778e31b3c)\" d=\"M 448.524089 295.191562 \r\nL 455.043256 295.191562 \r\nL 455.043256 294.737935 \r\nL 448.524089 294.737935 \r\nz\r\n\" style=\"fill:#34738c;\"/>\r\n   </g>\r\n   <g id=\"patch_52\">\r\n    <path clip-path=\"url(#pd778e31b3c)\" d=\"M 456.673048 295.191562 \r\nL 463.192216 295.191562 \r\nL 463.192216 294.739471 \r\nL 456.673048 294.739471 \r\nz\r\n\" style=\"fill:#34738c;\"/>\r\n   </g>\r\n   <g id=\"text_15\">\r\n    <!-- Scree plot -->\r\n    <g style=\"fill:#262626;\" transform=\"translate(37.083125 17.391562)scale(0.14 -0.14)\">\r\n     <defs>\r\n      <path d=\"M 4.5 23 \r\nL 13.421875 23.78125 \r\nQ 14.0625 18.40625 16.375 14.96875 \r\nQ 18.703125 11.53125 23.578125 9.40625 \r\nQ 28.46875 7.28125 34.578125 7.28125 \r\nQ 39.984375 7.28125 44.140625 8.890625 \r\nQ 48.296875 10.5 50.3125 13.296875 \r\nQ 52.34375 16.109375 52.34375 19.4375 \r\nQ 52.34375 22.796875 50.390625 25.3125 \r\nQ 48.4375 27.828125 43.953125 29.546875 \r\nQ 41.0625 30.671875 31.203125 33.03125 \r\nQ 21.34375 35.40625 17.390625 37.5 \r\nQ 12.25 40.1875 9.734375 44.15625 \r\nQ 7.234375 48.140625 7.234375 53.078125 \r\nQ 7.234375 58.5 10.296875 63.203125 \r\nQ 13.375 67.921875 19.28125 70.359375 \r\nQ 25.203125 72.796875 32.421875 72.796875 \r\nQ 40.375 72.796875 46.453125 70.234375 \r\nQ 52.546875 67.671875 55.8125 62.6875 \r\nQ 59.078125 57.71875 59.328125 51.421875 \r\nL 50.25 50.734375 \r\nQ 49.515625 57.515625 45.28125 60.984375 \r\nQ 41.0625 64.453125 32.8125 64.453125 \r\nQ 24.21875 64.453125 20.28125 61.296875 \r\nQ 16.359375 58.15625 16.359375 53.71875 \r\nQ 16.359375 49.859375 19.140625 47.359375 \r\nQ 21.875 44.875 33.421875 42.265625 \r\nQ 44.96875 39.65625 49.265625 37.703125 \r\nQ 55.515625 34.8125 58.484375 30.390625 \r\nQ 61.46875 25.984375 61.46875 20.21875 \r\nQ 61.46875 14.5 58.203125 9.4375 \r\nQ 54.9375 4.390625 48.796875 1.578125 \r\nQ 42.671875 -1.21875 35.015625 -1.21875 \r\nQ 25.296875 -1.21875 18.71875 1.609375 \r\nQ 12.15625 4.4375 8.421875 10.125 \r\nQ 4.6875 15.828125 4.5 23 \r\nz\r\n\" id=\"ArialMT-83\"/>\r\n     </defs>\r\n     <use xlink:href=\"#ArialMT-83\"/>\r\n     <use x=\"66.699219\" xlink:href=\"#ArialMT-99\"/>\r\n     <use x=\"116.699219\" xlink:href=\"#ArialMT-114\"/>\r\n     <use x=\"150\" xlink:href=\"#ArialMT-101\"/>\r\n     <use x=\"205.615234\" xlink:href=\"#ArialMT-101\"/>\r\n     <use x=\"261.230469\" xlink:href=\"#ArialMT-32\"/>\r\n     <use x=\"289.013672\" xlink:href=\"#ArialMT-112\"/>\r\n     <use x=\"344.628906\" xlink:href=\"#ArialMT-108\"/>\r\n     <use x=\"366.845703\" xlink:href=\"#ArialMT-111\"/>\r\n     <use x=\"422.460938\" xlink:href=\"#ArialMT-116\"/>\r\n    </g>\r\n   </g>\r\n  </g>\r\n </g>\r\n <defs>\r\n  <clipPath id=\"pd778e31b3c\">\r\n   <rect height=\"271.8\" width=\"446.4\" x=\"37.083125\" y=\"23.391562\"/>\r\n  </clipPath>\r\n </defs>\r\n</svg>\r\n",
      "image/png": "[encoded data removed]"
     },
     "metadata": {}
    }
   ]
  },
  {
   "cell_type": "code",
   "execution_count": 29,
   "metadata": {},
   "outputs": [
    {
     "output_type": "execute_result",
     "data": {
      "text/plain": [
       "((44310, 50), (44310,))"
      ]
     },
     "metadata": {},
     "execution_count": 29
    }
   ],
   "source": [
    "X_projected.shape, y.shape"
   ]
  },
  {
   "cell_type": "code",
   "execution_count": 8,
   "metadata": {},
   "outputs": [
    {
     "output_type": "stream",
     "name": "stderr",
     "text": [
      "100%|██████████| 43/43 [32:28<00:00, 45.32s/it]\n"
     ]
    }
   ],
   "source": [
    "from lazypredict.Supervised import LazyRegressor\n",
    "\n",
    "X_projected = X_projected.astype(np.float32)\n",
    "offset = int(X_projected.shape[0] * 0.7)\n",
    "\n",
    "X_train, y_train = X_projected[:offset], y[:offset]\n",
    "X_test, y_test = X_projected[offset:], y[offset:]\n",
    "\n",
    "lazyreg = LazyRegressor(verbose = 0, ignore_warnings=True, custom_metric=None)\n",
    "models, predictions = lazyreg.fit(X_train, X_test, y_train, y_test)"
   ]
  },
  {
   "cell_type": "code",
   "execution_count": 9,
   "metadata": {},
   "outputs": [
    {
     "output_type": "execute_result",
     "data": {
      "text/plain": [
       "                               R-Squared         RMSE  Time Taken\n",
       "Model                                                            \n",
       "KNeighborsRegressor                 0.67   7838190.07        8.87\n",
       "ExtraTreesRegressor                 0.60   8575507.49       19.07\n",
       "RandomForestRegressor               0.58   8775503.35       71.17\n",
       "BaggingRegressor                    0.52   9394197.17        6.80\n",
       "XGBRegressor                        0.50   9603741.54        7.61\n",
       "LGBMRegressor                       0.43  10217731.16        0.81\n",
       "HistGradientBoostingRegressor       0.43  10250220.61        2.91\n",
       "GradientBoostingRegressor           0.24  11845683.26       23.62\n",
       "DecisionTreeRegressor               0.16  12457372.57        1.15\n",
       "PoissonRegressor                    0.11  12785721.57        0.47\n",
       "ExtraTreeRegressor                  0.11  12795329.31        0.27\n",
       "AdaBoostRegressor                   0.09  12922877.56        3.45\n",
       "GammaRegressor                      0.06  13152239.94        0.16\n",
       "ElasticNet                          0.06  13167917.76        2.03\n",
       "LassoCV                             0.06  13171887.63        0.45\n",
       "LassoLarsCV                         0.06  13172028.23        0.24\n",
       "LarsCV                              0.06  13172028.23        0.31\n",
       "LassoLarsIC                         0.06  13182278.48        0.10\n",
       "RidgeCV                             0.06  13184390.38        0.16\n",
       "LassoLars                           0.06  13184482.30        0.07\n",
       "Ridge                               0.06  13184504.83        0.11\n",
       "Lasso                               0.06  13184517.33        2.32\n",
       "Lars                                0.06  13184517.50        0.17\n",
       "TransformedTargetRegressor          0.06  13184517.52        0.10\n",
       "LinearRegression                    0.06  13184517.52        0.09\n",
       "OrthogonalMatchingPursuit           0.06  13188549.47        0.08\n",
       "OrthogonalMatchingPursuitCV         0.06  13197571.54        0.15\n",
       "HuberRegressor                      0.06  13198723.51        0.47\n",
       "TweedieRegressor                    0.05  13224159.84        0.25\n",
       "GeneralizedLinearRegressor          0.05  13224159.84        0.64\n",
       "SGDRegressor                        0.04  13324732.06        0.34\n",
       "SVR                                -0.00  13582464.69       70.56\n",
       "ElasticNetCV                       -0.00  13589705.14        0.41\n",
       "BayesianRidge                      -0.00  13590034.53        0.09\n",
       "DummyRegressor                     -0.00  13590034.53        0.07\n",
       "NuSVR                              -0.00  13593524.24       72.76\n",
       "PassiveAggressiveRegressor         -0.11  14329482.79        3.60\n",
       "MLPRegressor                       -2.71  26144201.26       54.30\n",
       "LinearSVR                          -2.74  26277690.59        0.12\n",
       "KernelRidge                        -2.75  26290170.81      249.34\n",
       "RANSACRegressor                  -191.62 188504786.09        0.30\n",
       "GaussianProcessRegressor        -4316.71 892478022.52     1342.46"
      ],
      "text/html": "<div>\n<style scoped>\n    .dataframe tbody tr th:only-of-type {\n        vertical-align: middle;\n    }\n\n    .dataframe tbody tr th {\n        vertical-align: top;\n    }\n\n    .dataframe thead th {\n        text-align: right;\n    }\n</style>\n<table border=\"1\" class=\"dataframe\">\n  <thead>\n    <tr style=\"text-align: right;\">\n      <th></th>\n      <th>R-Squared</th>\n      <th>RMSE</th>\n      <th>Time Taken</th>\n    </tr>\n    <tr>\n      <th>Model</th>\n      <th></th>\n      <th></th>\n      <th></th>\n    </tr>\n  </thead>\n  <tbody>\n    <tr>\n      <th>KNeighborsRegressor</th>\n      <td>0.67</td>\n      <td>7838190.07</td>\n      <td>8.87</td>\n    </tr>\n    <tr>\n      <th>ExtraTreesRegressor</th>\n      <td>0.60</td>\n      <td>8575507.49</td>\n      <td>19.07</td>\n    </tr>\n    <tr>\n      <th>RandomForestRegressor</th>\n      <td>0.58</td>\n      <td>8775503.35</td>\n      <td>71.17</td>\n    </tr>\n    <tr>\n      <th>BaggingRegressor</th>\n      <td>0.52</td>\n      <td>9394197.17</td>\n      <td>6.80</td>\n    </tr>\n    <tr>\n      <th>XGBRegressor</th>\n      <td>0.50</td>\n      <td>9603741.54</td>\n      <td>7.61</td>\n    </tr>\n    <tr>\n      <th>LGBMRegressor</th>\n      <td>0.43</td>\n      <td>10217731.16</td>\n      <td>0.81</td>\n    </tr>\n    <tr>\n      <th>HistGradientBoostingRegressor</th>\n      <td>0.43</td>\n      <td>10250220.61</td>\n      <td>2.91</td>\n    </tr>\n    <tr>\n      <th>GradientBoostingRegressor</th>\n      <td>0.24</td>\n      <td>11845683.26</td>\n      <td>23.62</td>\n    </tr>\n    <tr>\n      <th>DecisionTreeRegressor</th>\n      <td>0.16</td>\n      <td>12457372.57</td>\n      <td>1.15</td>\n    </tr>\n    <tr>\n      <th>PoissonRegressor</th>\n      <td>0.11</td>\n      <td>12785721.57</td>\n      <td>0.47</td>\n    </tr>\n    <tr>\n      <th>ExtraTreeRegressor</th>\n      <td>0.11</td>\n      <td>12795329.31</td>\n      <td>0.27</td>\n    </tr>\n    <tr>\n      <th>AdaBoostRegressor</th>\n      <td>0.09</td>\n      <td>12922877.56</td>\n      <td>3.45</td>\n    </tr>\n    <tr>\n      <th>GammaRegressor</th>\n      <td>0.06</td>\n      <td>13152239.94</td>\n      <td>0.16</td>\n    </tr>\n    <tr>\n      <th>ElasticNet</th>\n      <td>0.06</td>\n      <td>13167917.76</td>\n      <td>2.03</td>\n    </tr>\n    <tr>\n      <th>LassoCV</th>\n      <td>0.06</td>\n      <td>13171887.63</td>\n      <td>0.45</td>\n    </tr>\n    <tr>\n      <th>LassoLarsCV</th>\n      <td>0.06</td>\n      <td>13172028.23</td>\n      <td>0.24</td>\n    </tr>\n    <tr>\n      <th>LarsCV</th>\n      <td>0.06</td>\n      <td>13172028.23</td>\n      <td>0.31</td>\n    </tr>\n    <tr>\n      <th>LassoLarsIC</th>\n      <td>0.06</td>\n      <td>13182278.48</td>\n      <td>0.10</td>\n    </tr>\n    <tr>\n      <th>RidgeCV</th>\n      <td>0.06</td>\n      <td>13184390.38</td>\n      <td>0.16</td>\n    </tr>\n    <tr>\n      <th>LassoLars</th>\n      <td>0.06</td>\n      <td>13184482.30</td>\n      <td>0.07</td>\n    </tr>\n    <tr>\n      <th>Ridge</th>\n      <td>0.06</td>\n      <td>13184504.83</td>\n      <td>0.11</td>\n    </tr>\n    <tr>\n      <th>Lasso</th>\n      <td>0.06</td>\n      <td>13184517.33</td>\n      <td>2.32</td>\n    </tr>\n    <tr>\n      <th>Lars</th>\n      <td>0.06</td>\n      <td>13184517.50</td>\n      <td>0.17</td>\n    </tr>\n    <tr>\n      <th>TransformedTargetRegressor</th>\n      <td>0.06</td>\n      <td>13184517.52</td>\n      <td>0.10</td>\n    </tr>\n    <tr>\n      <th>LinearRegression</th>\n      <td>0.06</td>\n      <td>13184517.52</td>\n      <td>0.09</td>\n    </tr>\n    <tr>\n      <th>OrthogonalMatchingPursuit</th>\n      <td>0.06</td>\n      <td>13188549.47</td>\n      <td>0.08</td>\n    </tr>\n    <tr>\n      <th>OrthogonalMatchingPursuitCV</th>\n      <td>0.06</td>\n      <td>13197571.54</td>\n      <td>0.15</td>\n    </tr>\n    <tr>\n      <th>HuberRegressor</th>\n      <td>0.06</td>\n      <td>13198723.51</td>\n      <td>0.47</td>\n    </tr>\n    <tr>\n      <th>TweedieRegressor</th>\n      <td>0.05</td>\n      <td>13224159.84</td>\n      <td>0.25</td>\n    </tr>\n    <tr>\n      <th>GeneralizedLinearRegressor</th>\n      <td>0.05</td>\n      <td>13224159.84</td>\n      <td>0.64</td>\n    </tr>\n    <tr>\n      <th>SGDRegressor</th>\n      <td>0.04</td>\n      <td>13324732.06</td>\n      <td>0.34</td>\n    </tr>\n    <tr>\n      <th>SVR</th>\n      <td>-0.00</td>\n      <td>13582464.69</td>\n      <td>70.56</td>\n    </tr>\n    <tr>\n      <th>ElasticNetCV</th>\n      <td>-0.00</td>\n      <td>13589705.14</td>\n      <td>0.41</td>\n    </tr>\n    <tr>\n      <th>BayesianRidge</th>\n      <td>-0.00</td>\n      <td>13590034.53</td>\n      <td>0.09</td>\n    </tr>\n    <tr>\n      <th>DummyRegressor</th>\n      <td>-0.00</td>\n      <td>13590034.53</td>\n      <td>0.07</td>\n    </tr>\n    <tr>\n      <th>NuSVR</th>\n      <td>-0.00</td>\n      <td>13593524.24</td>\n      <td>72.76</td>\n    </tr>\n    <tr>\n      <th>PassiveAggressiveRegressor</th>\n      <td>-0.11</td>\n      <td>14329482.79</td>\n      <td>3.60</td>\n    </tr>\n    <tr>\n      <th>MLPRegressor</th>\n      <td>-2.71</td>\n      <td>26144201.26</td>\n      <td>54.30</td>\n    </tr>\n    <tr>\n      <th>LinearSVR</th>\n      <td>-2.74</td>\n      <td>26277690.59</td>\n      <td>0.12</td>\n    </tr>\n    <tr>\n      <th>KernelRidge</th>\n      <td>-2.75</td>\n      <td>26290170.81</td>\n      <td>249.34</td>\n    </tr>\n    <tr>\n      <th>RANSACRegressor</th>\n      <td>-191.62</td>\n      <td>188504786.09</td>\n      <td>0.30</td>\n    </tr>\n    <tr>\n      <th>GaussianProcessRegressor</th>\n      <td>-4316.71</td>\n      <td>892478022.52</td>\n      <td>1342.46</td>\n    </tr>\n  </tbody>\n</table>\n</div>"
     },
     "metadata": {},
     "execution_count": 9
    }
   ],
   "source": [
    "models"
   ]
  },
  {
   "cell_type": "code",
   "execution_count": 11,
   "metadata": {},
   "outputs": [],
   "source": [
    "from sklearn.neighbors import KNeighborsRegressor\n",
    "from sklearn.model_selection import cross_val_score"
   ]
  },
  {
   "cell_type": "code",
   "execution_count": 25,
   "metadata": {},
   "outputs": [
    {
     "output_type": "stream",
     "name": "stdout",
     "text": [
      "k:4 - cv_scores mean:0.6991281849688852\n",
      "k:5 - cv_scores mean:0.6907591948296793\n",
      "k:6 - cv_scores mean:0.6986553630433442\n"
     ]
    }
   ],
   "source": [
    "#create a KNN model\n",
    "# for k in range(4,7):\n",
    "#     knn_cv = KNeighborsRegressor(n_neighbors=k, weights='distance', metric='manhattan') \n",
    "#     cv_scores = cross_val_score(knn_cv, X_projected, y, cv=10) \n",
    "#     print('k:{} - cv_scores mean:{}'.format(k, np.mean(cv_scores)))"
   ]
  },
  {
   "source": [
    "## Model"
   ],
   "cell_type": "markdown",
   "metadata": {}
  },
  {
   "cell_type": "code",
   "execution_count": 45,
   "metadata": {},
   "outputs": [
    {
     "output_type": "stream",
     "name": "stdout",
     "text": [
      "Fitting 10 folds for each of 3 candidates, totalling 30 fits\n",
      "[CV] n_neighbors=3 ...................................................\n",
      "[Parallel(n_jobs=1)]: Using backend SequentialBackend with 1 concurrent workers.\n",
      "[CV] .................................... n_neighbors=3, total=   1.0s\n",
      "[CV] n_neighbors=3 ...................................................\n",
      "[Parallel(n_jobs=1)]: Done   1 out of   1 | elapsed:    0.9s remaining:    0.0s\n",
      "[CV] .................................... n_neighbors=3, total=   0.8s\n",
      "[CV] n_neighbors=3 ...................................................\n",
      "[CV] .................................... n_neighbors=3, total=   0.9s\n",
      "[CV] n_neighbors=3 ...................................................\n",
      "[CV] .................................... n_neighbors=3, total=   0.9s\n",
      "[CV] n_neighbors=3 ...................................................\n",
      "[CV] .................................... n_neighbors=3, total=   0.8s\n",
      "[CV] n_neighbors=3 ...................................................\n",
      "[CV] .................................... n_neighbors=3, total=   0.9s\n",
      "[CV] n_neighbors=3 ...................................................\n",
      "[CV] .................................... n_neighbors=3, total=   0.9s\n",
      "[CV] n_neighbors=3 ...................................................\n",
      "[CV] .................................... n_neighbors=3, total=   0.8s\n",
      "[CV] n_neighbors=3 ...................................................\n",
      "[CV] .................................... n_neighbors=3, total=   0.9s\n",
      "[CV] n_neighbors=3 ...................................................\n",
      "[CV] .................................... n_neighbors=3, total=   1.0s\n",
      "[CV] n_neighbors=4 ...................................................\n",
      "[CV] .................................... n_neighbors=4, total=   1.1s\n",
      "[CV] n_neighbors=4 ...................................................\n",
      "[CV] .................................... n_neighbors=4, total=   1.0s\n",
      "[CV] n_neighbors=4 ...................................................\n",
      "[CV] .................................... n_neighbors=4, total=   1.1s\n",
      "[CV] n_neighbors=4 ...................................................\n",
      "[CV] .................................... n_neighbors=4, total=   0.9s\n",
      "[CV] n_neighbors=4 ...................................................\n",
      "[CV] .................................... n_neighbors=4, total=   1.2s\n",
      "[CV] n_neighbors=4 ...................................................\n",
      "[CV] .................................... n_neighbors=4, total=   1.0s\n",
      "[CV] n_neighbors=4 ...................................................\n",
      "[CV] .................................... n_neighbors=4, total=   1.0s\n",
      "[CV] n_neighbors=4 ...................................................\n",
      "[CV] .................................... n_neighbors=4, total=   0.9s\n",
      "[CV] n_neighbors=4 ...................................................\n",
      "[CV] .................................... n_neighbors=4, total=   1.0s\n",
      "[CV] n_neighbors=4 ...................................................\n",
      "[CV] .................................... n_neighbors=4, total=   0.9s\n",
      "[CV] n_neighbors=5 ...................................................\n",
      "[CV] .................................... n_neighbors=5, total=   1.1s\n",
      "[CV] n_neighbors=5 ...................................................\n",
      "[CV] .................................... n_neighbors=5, total=   1.1s\n",
      "[CV] n_neighbors=5 ...................................................\n",
      "[CV] .................................... n_neighbors=5, total=   1.0s\n",
      "[CV] n_neighbors=5 ...................................................\n",
      "[CV] .................................... n_neighbors=5, total=   1.0s\n",
      "[CV] n_neighbors=5 ...................................................\n",
      "[CV] .................................... n_neighbors=5, total=   1.0s\n",
      "[CV] n_neighbors=5 ...................................................\n",
      "[CV] .................................... n_neighbors=5, total=   1.1s\n",
      "[CV] n_neighbors=5 ...................................................\n",
      "[CV] .................................... n_neighbors=5, total=   1.1s\n",
      "[CV] n_neighbors=5 ...................................................\n",
      "[CV] .................................... n_neighbors=5, total=   1.0s\n",
      "[CV] n_neighbors=5 ...................................................\n",
      "[CV] .................................... n_neighbors=5, total=   1.0s\n",
      "[CV] n_neighbors=5 ...................................................\n",
      "[CV] .................................... n_neighbors=5, total=   1.1s\n",
      "[Parallel(n_jobs=1)]: Done  30 out of  30 | elapsed:   29.4s finished\n"
     ]
    },
    {
     "output_type": "execute_result",
     "data": {
      "text/plain": [
       "GridSearchCV(cv=10,\n",
       "             estimator=KNeighborsRegressor(metric='manhattan',\n",
       "                                           weights='distance'),\n",
       "             param_grid={'n_neighbors': array([3, 4, 5])}, verbose=2)"
      ]
     },
     "metadata": {},
     "execution_count": 45
    }
   ],
   "source": [
    "from sklearn.model_selection import GridSearchCV\n",
    "\n",
    "knn2 = KNeighborsRegressor(weights='distance', metric='manhattan')\n",
    "\n",
    "param_grid = {'n_neighbors': np.arange(3,6)}\n",
    "\n",
    "knn_gs = GridSearchCV(knn2, param_grid, cv=10, verbose=2)\n",
    "\n",
    "knn_gs.fit(X_projected[:,:21], y)"
   ]
  },
  {
   "cell_type": "code",
   "execution_count": 46,
   "metadata": {},
   "outputs": [
    {
     "output_type": "execute_result",
     "data": {
      "text/plain": [
       "({'n_neighbors': 4}, 0.7059803845845742)"
      ]
     },
     "metadata": {},
     "execution_count": 46
    }
   ],
   "source": [
    "knn_gs.best_params_, knn_gs.best_score_"
   ]
  },
  {
   "cell_type": "code",
   "execution_count": 8,
   "metadata": {},
   "outputs": [
    {
     "output_type": "execute_result",
     "data": {
      "text/plain": [
       "freq       index       0.0  0.01666638889351844  0.03333277778703688  \\\n",
       "0       sensor_1  4.462476             0.038349             0.134076   \n",
       "1       sensor_2  0.000000             0.000000             0.000000   \n",
       "2       sensor_3  3.584690             0.337934             0.204221   \n",
       "3       sensor_4  3.677255             8.695886             4.579681   \n",
       "4       sensor_5  0.932501             0.038955             0.110079   \n",
       "...          ...       ...                  ...                  ...   \n",
       "45195   sensor_6  5.089865             2.154530             1.053143   \n",
       "45196   sensor_7  5.543958             0.787115             0.923785   \n",
       "45197   sensor_8  4.414276             5.429152             2.396537   \n",
       "45198   sensor_9  1.950851             0.154554             0.258793   \n",
       "45199  sensor_10  0.000000             0.000000             0.000000   \n",
       "\n",
       "freq   0.049999166680555325  0.06666555557407376  0.0833319444675922  \\\n",
       "0                  0.085605             0.245776            0.098269   \n",
       "1                  0.000000             0.000000            0.000000   \n",
       "2                  1.720011             2.934069            5.632747   \n",
       "3                  3.266593             1.906202            1.884186   \n",
       "4                  0.175336             0.147437            0.268008   \n",
       "...                     ...                  ...                 ...   \n",
       "45195              1.804059             0.827806            1.566531   \n",
       "45196              0.396569             0.752323            0.627240   \n",
       "45197              1.115742             1.329648            1.521271   \n",
       "45198              0.245011             0.128896            0.406095   \n",
       "45199              0.000000             0.000000            0.000000   \n",
       "\n",
       "freq   0.09999833336111065  0.1166647222546291  0.13333111114814752  ...  \\\n",
       "0                 0.192568            0.238864             0.192877  ...   \n",
       "1                 0.000000            0.000000             0.000000  ...   \n",
       "2                 3.872341            4.541313             5.551674  ...   \n",
       "3                 1.488639            0.656050             1.159396  ...   \n",
       "4                 0.074318            0.066647             0.109220  ...   \n",
       "...                    ...                 ...                  ...  ...   \n",
       "45195             2.030801            1.556698             0.828912  ...   \n",
       "45196             0.767012            0.552977             1.096175  ...   \n",
       "45197             0.543693            0.800583             1.397448  ...   \n",
       "45198             0.309636            0.101926             0.249629  ...   \n",
       "45199             0.000000            0.000000             0.000000  ...   \n",
       "\n",
       "freq   39.86600223329611  39.88266862218963  39.899335011083146  \\\n",
       "0               0.688594           0.558362            1.511450   \n",
       "1               0.000000           0.000000            0.000000   \n",
       "2               2.351132           2.742011            2.160033   \n",
       "3               2.454365           1.704413            3.244520   \n",
       "4               1.705957           1.380029            1.131592   \n",
       "...                  ...                ...                 ...   \n",
       "45195           3.114529           1.811340            2.455989   \n",
       "45196           0.090702           0.065086            0.334062   \n",
       "45197           0.442631           0.676793            0.538837   \n",
       "45198           2.143589           0.314581            2.930488   \n",
       "45199           0.000000           0.000000            0.000000   \n",
       "\n",
       "freq   39.91600139997667  39.932667788870184  39.9493341777637  \\\n",
       "0               0.161551            0.883836          0.456171   \n",
       "1               0.000000            0.000000          0.000000   \n",
       "2               1.534057            1.410250          0.988140   \n",
       "3               1.400255            2.567716          1.714849   \n",
       "4               2.301202            1.044755          1.071660   \n",
       "...                  ...                 ...               ...   \n",
       "45195           3.343100            3.347336          2.330346   \n",
       "45196           0.277527            0.512979          0.452197   \n",
       "45197           1.271817            0.667949          0.508405   \n",
       "45198           2.194220            1.124387          3.089365   \n",
       "45199           0.000000            0.000000          0.000000   \n",
       "\n",
       "freq   39.96600056665722  39.98266695555074  39.99933334444426  segment_id  \n",
       "0               1.257083           1.271266           1.716003  1000213997  \n",
       "1               0.000000           0.000000           0.000000  1000213997  \n",
       "2               2.451747           3.488232           1.732517  1000213997  \n",
       "3               0.534553           2.577692           5.373750  1000213997  \n",
       "4               1.663820           1.272762           0.711333  1000213997  \n",
       "...                  ...                ...                ...         ...  \n",
       "45195           1.499779           1.262957           2.470663    99975682  \n",
       "45196           0.448010           0.368748           0.239064    99975682  \n",
       "45197           1.146118           0.478269           1.394885    99975682  \n",
       "45198           1.060063           2.261150           1.677183    99975682  \n",
       "45199           0.000000           0.000000           0.000000    99975682  \n",
       "\n",
       "[45200 rows x 2403 columns]"
      ],
      "text/html": "<div>\n<style scoped>\n    .dataframe tbody tr th:only-of-type {\n        vertical-align: middle;\n    }\n\n    .dataframe tbody tr th {\n        vertical-align: top;\n    }\n\n    .dataframe thead th {\n        text-align: right;\n    }\n</style>\n<table border=\"1\" class=\"dataframe\">\n  <thead>\n    <tr style=\"text-align: right;\">\n      <th>freq</th>\n      <th>index</th>\n      <th>0.0</th>\n      <th>0.01666638889351844</th>\n      <th>0.03333277778703688</th>\n      <th>0.049999166680555325</th>\n      <th>0.06666555557407376</th>\n      <th>0.0833319444675922</th>\n      <th>0.09999833336111065</th>\n      <th>0.1166647222546291</th>\n      <th>0.13333111114814752</th>\n      <th>...</th>\n      <th>39.86600223329611</th>\n      <th>39.88266862218963</th>\n      <th>39.899335011083146</th>\n      <th>39.91600139997667</th>\n      <th>39.932667788870184</th>\n      <th>39.9493341777637</th>\n      <th>39.96600056665722</th>\n      <th>39.98266695555074</th>\n      <th>39.99933334444426</th>\n      <th>segment_id</th>\n    </tr>\n  </thead>\n  <tbody>\n    <tr>\n      <th>0</th>\n      <td>sensor_1</td>\n      <td>4.462476</td>\n      <td>0.038349</td>\n      <td>0.134076</td>\n      <td>0.085605</td>\n      <td>0.245776</td>\n      <td>0.098269</td>\n      <td>0.192568</td>\n      <td>0.238864</td>\n      <td>0.192877</td>\n      <td>...</td>\n      <td>0.688594</td>\n      <td>0.558362</td>\n      <td>1.511450</td>\n      <td>0.161551</td>\n      <td>0.883836</td>\n      <td>0.456171</td>\n      <td>1.257083</td>\n      <td>1.271266</td>\n      <td>1.716003</td>\n      <td>1000213997</td>\n    </tr>\n    <tr>\n      <th>1</th>\n      <td>sensor_2</td>\n      <td>0.000000</td>\n      <td>0.000000</td>\n      <td>0.000000</td>\n      <td>0.000000</td>\n      <td>0.000000</td>\n      <td>0.000000</td>\n      <td>0.000000</td>\n      <td>0.000000</td>\n      <td>0.000000</td>\n      <td>...</td>\n      <td>0.000000</td>\n      <td>0.000000</td>\n      <td>0.000000</td>\n      <td>0.000000</td>\n      <td>0.000000</td>\n      <td>0.000000</td>\n      <td>0.000000</td>\n      <td>0.000000</td>\n      <td>0.000000</td>\n      <td>1000213997</td>\n    </tr>\n    <tr>\n      <th>2</th>\n      <td>sensor_3</td>\n      <td>3.584690</td>\n      <td>0.337934</td>\n      <td>0.204221</td>\n      <td>1.720011</td>\n      <td>2.934069</td>\n      <td>5.632747</td>\n      <td>3.872341</td>\n      <td>4.541313</td>\n      <td>5.551674</td>\n      <td>...</td>\n      <td>2.351132</td>\n      <td>2.742011</td>\n      <td>2.160033</td>\n      <td>1.534057</td>\n      <td>1.410250</td>\n      <td>0.988140</td>\n      <td>2.451747</td>\n      <td>3.488232</td>\n      <td>1.732517</td>\n      <td>1000213997</td>\n    </tr>\n    <tr>\n      <th>3</th>\n      <td>sensor_4</td>\n      <td>3.677255</td>\n      <td>8.695886</td>\n      <td>4.579681</td>\n      <td>3.266593</td>\n      <td>1.906202</td>\n      <td>1.884186</td>\n      <td>1.488639</td>\n      <td>0.656050</td>\n      <td>1.159396</td>\n      <td>...</td>\n      <td>2.454365</td>\n      <td>1.704413</td>\n      <td>3.244520</td>\n      <td>1.400255</td>\n      <td>2.567716</td>\n      <td>1.714849</td>\n      <td>0.534553</td>\n      <td>2.577692</td>\n      <td>5.373750</td>\n      <td>1000213997</td>\n    </tr>\n    <tr>\n      <th>4</th>\n      <td>sensor_5</td>\n      <td>0.932501</td>\n      <td>0.038955</td>\n      <td>0.110079</td>\n      <td>0.175336</td>\n      <td>0.147437</td>\n      <td>0.268008</td>\n      <td>0.074318</td>\n      <td>0.066647</td>\n      <td>0.109220</td>\n      <td>...</td>\n      <td>1.705957</td>\n      <td>1.380029</td>\n      <td>1.131592</td>\n      <td>2.301202</td>\n      <td>1.044755</td>\n      <td>1.071660</td>\n      <td>1.663820</td>\n      <td>1.272762</td>\n      <td>0.711333</td>\n      <td>1000213997</td>\n    </tr>\n    <tr>\n      <th>...</th>\n      <td>...</td>\n      <td>...</td>\n      <td>...</td>\n      <td>...</td>\n      <td>...</td>\n      <td>...</td>\n      <td>...</td>\n      <td>...</td>\n      <td>...</td>\n      <td>...</td>\n      <td>...</td>\n      <td>...</td>\n      <td>...</td>\n      <td>...</td>\n      <td>...</td>\n      <td>...</td>\n      <td>...</td>\n      <td>...</td>\n      <td>...</td>\n      <td>...</td>\n      <td>...</td>\n    </tr>\n    <tr>\n      <th>45195</th>\n      <td>sensor_6</td>\n      <td>5.089865</td>\n      <td>2.154530</td>\n      <td>1.053143</td>\n      <td>1.804059</td>\n      <td>0.827806</td>\n      <td>1.566531</td>\n      <td>2.030801</td>\n      <td>1.556698</td>\n      <td>0.828912</td>\n      <td>...</td>\n      <td>3.114529</td>\n      <td>1.811340</td>\n      <td>2.455989</td>\n      <td>3.343100</td>\n      <td>3.347336</td>\n      <td>2.330346</td>\n      <td>1.499779</td>\n      <td>1.262957</td>\n      <td>2.470663</td>\n      <td>99975682</td>\n    </tr>\n    <tr>\n      <th>45196</th>\n      <td>sensor_7</td>\n      <td>5.543958</td>\n      <td>0.787115</td>\n      <td>0.923785</td>\n      <td>0.396569</td>\n      <td>0.752323</td>\n      <td>0.627240</td>\n      <td>0.767012</td>\n      <td>0.552977</td>\n      <td>1.096175</td>\n      <td>...</td>\n      <td>0.090702</td>\n      <td>0.065086</td>\n      <td>0.334062</td>\n      <td>0.277527</td>\n      <td>0.512979</td>\n      <td>0.452197</td>\n      <td>0.448010</td>\n      <td>0.368748</td>\n      <td>0.239064</td>\n      <td>99975682</td>\n    </tr>\n    <tr>\n      <th>45197</th>\n      <td>sensor_8</td>\n      <td>4.414276</td>\n      <td>5.429152</td>\n      <td>2.396537</td>\n      <td>1.115742</td>\n      <td>1.329648</td>\n      <td>1.521271</td>\n      <td>0.543693</td>\n      <td>0.800583</td>\n      <td>1.397448</td>\n      <td>...</td>\n      <td>0.442631</td>\n      <td>0.676793</td>\n      <td>0.538837</td>\n      <td>1.271817</td>\n      <td>0.667949</td>\n      <td>0.508405</td>\n      <td>1.146118</td>\n      <td>0.478269</td>\n      <td>1.394885</td>\n      <td>99975682</td>\n    </tr>\n    <tr>\n      <th>45198</th>\n      <td>sensor_9</td>\n      <td>1.950851</td>\n      <td>0.154554</td>\n      <td>0.258793</td>\n      <td>0.245011</td>\n      <td>0.128896</td>\n      <td>0.406095</td>\n      <td>0.309636</td>\n      <td>0.101926</td>\n      <td>0.249629</td>\n      <td>...</td>\n      <td>2.143589</td>\n      <td>0.314581</td>\n      <td>2.930488</td>\n      <td>2.194220</td>\n      <td>1.124387</td>\n      <td>3.089365</td>\n      <td>1.060063</td>\n      <td>2.261150</td>\n      <td>1.677183</td>\n      <td>99975682</td>\n    </tr>\n    <tr>\n      <th>45199</th>\n      <td>sensor_10</td>\n      <td>0.000000</td>\n      <td>0.000000</td>\n      <td>0.000000</td>\n      <td>0.000000</td>\n      <td>0.000000</td>\n      <td>0.000000</td>\n      <td>0.000000</td>\n      <td>0.000000</td>\n      <td>0.000000</td>\n      <td>...</td>\n      <td>0.000000</td>\n      <td>0.000000</td>\n      <td>0.000000</td>\n      <td>0.000000</td>\n      <td>0.000000</td>\n      <td>0.000000</td>\n      <td>0.000000</td>\n      <td>0.000000</td>\n      <td>0.000000</td>\n      <td>99975682</td>\n    </tr>\n  </tbody>\n</table>\n<p>45200 rows × 2403 columns</p>\n</div>"
     },
     "metadata": {},
     "execution_count": 8
    }
   ],
   "source": [
    "df_test = import_and_transform_data('Data/test/')\n",
    "df_test"
   ]
  },
  {
   "cell_type": "code",
   "execution_count": 32,
   "metadata": {},
   "outputs": [],
   "source": [
    "X_test = df_test.iloc[:,1:-1]\n",
    "X_test = pca.transform(X_test)"
   ]
  },
  {
   "cell_type": "code",
   "execution_count": 33,
   "metadata": {},
   "outputs": [
    {
     "output_type": "execute_result",
     "data": {
      "text/plain": [
       "(45200, 50)"
      ]
     },
     "metadata": {},
     "execution_count": 33
    }
   ],
   "source": [
    "X_test.shape"
   ]
  },
  {
   "cell_type": "code",
   "execution_count": 34,
   "metadata": {},
   "outputs": [],
   "source": [
    "y_pred = knn_gs.predict(X_test)"
   ]
  },
  {
   "cell_type": "code",
   "execution_count": 35,
   "metadata": {},
   "outputs": [
    {
     "output_type": "execute_result",
     "data": {
      "text/plain": [
       "array([ 1433878.5608572 , 31940416.92758515,  1985539.66199253, ...,\n",
       "        1186179.26296911, 14291647.27919551, 31940416.92758515])"
      ]
     },
     "metadata": {},
     "execution_count": 35
    }
   ],
   "source": [
    "y_pred"
   ]
  },
  {
   "cell_type": "code",
   "execution_count": 36,
   "metadata": {},
   "outputs": [],
   "source": [
    "prediction = pd.DataFrame([df_test['segment_id'], y_pred]).transpose().astype(int)"
   ]
  },
  {
   "cell_type": "code",
   "execution_count": 37,
   "metadata": {},
   "outputs": [],
   "source": [
    "prediction.columns = ['segment_id', 'time_to_eruption']"
   ]
  },
  {
   "cell_type": "code",
   "execution_count": 38,
   "metadata": {},
   "outputs": [],
   "source": [
    "prediction = prediction.groupby('segment_id').mean().reset_index()"
   ]
  },
  {
   "cell_type": "code",
   "execution_count": 39,
   "metadata": {},
   "outputs": [],
   "source": [
    "submission = pd.read_csv('Data/sample_submission.csv', sep=',', usecols=['segment_id'])"
   ]
  },
  {
   "cell_type": "code",
   "execution_count": 40,
   "metadata": {},
   "outputs": [],
   "source": [
    "submission = submission.merge(prediction, on='segment_id')"
   ]
  },
  {
   "cell_type": "code",
   "execution_count": 41,
   "metadata": {},
   "outputs": [],
   "source": [
    "submission['time_to_eruption'] = round(submission['time_to_eruption'],0).astype(int)"
   ]
  },
  {
   "cell_type": "code",
   "execution_count": 42,
   "metadata": {},
   "outputs": [
    {
     "output_type": "execute_result",
     "data": {
      "text/plain": [
       "      segment_id  time_to_eruption\n",
       "0     1000213997          12354818\n",
       "1      100023368          11691935\n",
       "2     1000488999          22445447\n",
       "3     1001028887          12941536\n",
       "4     1001857862          11006499\n",
       "...          ...               ...\n",
       "4515   996704281          15636620\n",
       "4516   997630809          20963438\n",
       "4517   998072137          25888538\n",
       "4518   998136924           8992448\n",
       "4519    99975682          11350050\n",
       "\n",
       "[4520 rows x 2 columns]"
      ],
      "text/html": "<div>\n<style scoped>\n    .dataframe tbody tr th:only-of-type {\n        vertical-align: middle;\n    }\n\n    .dataframe tbody tr th {\n        vertical-align: top;\n    }\n\n    .dataframe thead th {\n        text-align: right;\n    }\n</style>\n<table border=\"1\" class=\"dataframe\">\n  <thead>\n    <tr style=\"text-align: right;\">\n      <th></th>\n      <th>segment_id</th>\n      <th>time_to_eruption</th>\n    </tr>\n  </thead>\n  <tbody>\n    <tr>\n      <th>0</th>\n      <td>1000213997</td>\n      <td>12354818</td>\n    </tr>\n    <tr>\n      <th>1</th>\n      <td>100023368</td>\n      <td>11691935</td>\n    </tr>\n    <tr>\n      <th>2</th>\n      <td>1000488999</td>\n      <td>22445447</td>\n    </tr>\n    <tr>\n      <th>3</th>\n      <td>1001028887</td>\n      <td>12941536</td>\n    </tr>\n    <tr>\n      <th>4</th>\n      <td>1001857862</td>\n      <td>11006499</td>\n    </tr>\n    <tr>\n      <th>...</th>\n      <td>...</td>\n      <td>...</td>\n    </tr>\n    <tr>\n      <th>4515</th>\n      <td>996704281</td>\n      <td>15636620</td>\n    </tr>\n    <tr>\n      <th>4516</th>\n      <td>997630809</td>\n      <td>20963438</td>\n    </tr>\n    <tr>\n      <th>4517</th>\n      <td>998072137</td>\n      <td>25888538</td>\n    </tr>\n    <tr>\n      <th>4518</th>\n      <td>998136924</td>\n      <td>8992448</td>\n    </tr>\n    <tr>\n      <th>4519</th>\n      <td>99975682</td>\n      <td>11350050</td>\n    </tr>\n  </tbody>\n</table>\n<p>4520 rows × 2 columns</p>\n</div>"
     },
     "metadata": {},
     "execution_count": 42
    }
   ],
   "source": [
    "submission"
   ]
  },
  {
   "cell_type": "code",
   "execution_count": 43,
   "metadata": {},
   "outputs": [],
   "source": [
    "submission.to_csv('Data/sample_submission01.csv', sep=',', index=False)"
   ]
  },
  {
   "cell_type": "code",
   "execution_count": null,
   "metadata": {},
   "outputs": [],
   "source": []
  }
 ]
}